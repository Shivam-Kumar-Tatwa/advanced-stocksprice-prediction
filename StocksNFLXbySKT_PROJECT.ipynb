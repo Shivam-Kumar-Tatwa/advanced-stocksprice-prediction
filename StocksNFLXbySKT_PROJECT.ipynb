{
  "nbformat": 4,
  "nbformat_minor": 0,
  "metadata": {
    "colab": {
      "name": "StocksNFLXbySKT-PROJECT.ipynb",
      "provenance": [],
      "collapsed_sections": []
    },
    "kernelspec": {
      "name": "python3",
      "display_name": "Python 3"
    },
    "language_info": {
      "name": "python"
    }
  },
  "cells": [
    {
      "cell_type": "markdown",
      "metadata": {
        "id": "yoTqySyzFjJQ"
      },
      "source": [
        "# ***STOCK PEDICTION USING MACHINE LEARNING***\n",
        "\n",
        "\n",
        "---\n",
        "\n"
      ]
    },
    {
      "cell_type": "markdown",
      "metadata": {
        "id": "qp-vP8c8F-_p"
      },
      "source": [
        "DATASET USED:-   NETFIX STOCK PRICE DATASET    [link text](https://https://www.kaggle.com/jainshukal/netflix-stock-price)                 \n",
        "\n",
        "ML MODELS USED IN OUR STOCK PREDICTOR:-\n",
        "\n",
        "\n",
        "1.   DECISION TREE REGRESSION (SUPERVISED LEARNING)\n",
        "2.   LINEAR REGRESSION (SUPERVISED LEARNING)\n",
        "\n",
        "1.   K- NEAREST NEIGHBOUR (SUPERVISED LEARNING, LAZY LEARNING)\n",
        "2.   LONG SHORT TERM MEMORY (SELF SUPERVISED LEARNING)\n",
        "\n",
        "**RECOMMENDED IDLE:- GOOGLE COLAB NOTEBOOK**\n",
        "\n",
        "\n",
        "\n",
        "\n",
        "\n",
        "\n",
        "\n",
        "\n"
      ]
    },
    {
      "cell_type": "code",
      "metadata": {
        "id": "vLO2s4c3iQWC"
      },
      "source": [
        "### Stock predictor"
      ],
      "execution_count": null,
      "outputs": []
    },
    {
      "cell_type": "code",
      "metadata": {
        "id": "uujndo-3iZs8"
      },
      "source": [
        "import numpy as np\n",
        "import pandas as pd\n",
        "from sklearn.tree import DecisionTreeRegressor\n",
        "from sklearn.linear_model import LinearRegression\n",
        "from sklearn.model_selection import train_test_split\n",
        "import matplotlib.pyplot as plt\n",
        "plt.style.use('bmh')\n"
      ],
      "execution_count": null,
      "outputs": []
    },
    {
      "cell_type": "code",
      "metadata": {
        "colab": {
          "resources": {
            "http://localhost:8080/nbextensions/google.colab/files.js": {
              "data": "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",
              "ok": true,
              "headers": [
                [
                  "content-type",
                  "application/javascript"
                ]
              ],
              "status": 200,
              "status_text": ""
            }
          },
          "base_uri": "https://localhost:8080/",
          "height": 73
        },
        "id": "dFvqhEAVlP-B",
        "outputId": "8d900e71-4fa0-4e20-b5c4-9b58e0b4e035"
      },
      "source": [
        "## import dataset\n",
        "from google.colab import files\n",
        "uploaded = files.upload()"
      ],
      "execution_count": null,
      "outputs": [
        {
          "output_type": "display_data",
          "data": {
            "text/html": [
              "\n",
              "     <input type=\"file\" id=\"files-5f51590f-d030-471f-8adf-d25590a76ed5\" name=\"files[]\" multiple disabled\n",
              "        style=\"border:none\" />\n",
              "     <output id=\"result-5f51590f-d030-471f-8adf-d25590a76ed5\">\n",
              "      Upload widget is only available when the cell has been executed in the\n",
              "      current browser session. Please rerun this cell to enable.\n",
              "      </output>\n",
              "      <script src=\"/nbextensions/google.colab/files.js\"></script> "
            ],
            "text/plain": [
              "<IPython.core.display.HTML object>"
            ]
          },
          "metadata": {
            "tags": []
          }
        },
        {
          "output_type": "stream",
          "text": [
            "Saving NFLX.csv to NFLX.csv\n"
          ],
          "name": "stdout"
        }
      ]
    },
    {
      "cell_type": "code",
      "metadata": {
        "colab": {
          "base_uri": "https://localhost:8080/",
          "height": 235
        },
        "id": "cbkcl4lvmGqS",
        "outputId": "8f3197ed-c74d-4ec8-9cb6-bddb8d73b561"
      },
      "source": [
        "### storing \n",
        "df = pd.read_csv('NFLX.csv')\n",
        "df.head(6)"
      ],
      "execution_count": null,
      "outputs": [
        {
          "output_type": "execute_result",
          "data": {
            "text/html": [
              "<div>\n",
              "<style scoped>\n",
              "    .dataframe tbody tr th:only-of-type {\n",
              "        vertical-align: middle;\n",
              "    }\n",
              "\n",
              "    .dataframe tbody tr th {\n",
              "        vertical-align: top;\n",
              "    }\n",
              "\n",
              "    .dataframe thead th {\n",
              "        text-align: right;\n",
              "    }\n",
              "</style>\n",
              "<table border=\"1\" class=\"dataframe\">\n",
              "  <thead>\n",
              "    <tr style=\"text-align: right;\">\n",
              "      <th></th>\n",
              "      <th>Date</th>\n",
              "      <th>Open</th>\n",
              "      <th>High</th>\n",
              "      <th>Low</th>\n",
              "      <th>Close</th>\n",
              "      <th>Adj Close</th>\n",
              "      <th>Volume</th>\n",
              "    </tr>\n",
              "  </thead>\n",
              "  <tbody>\n",
              "    <tr>\n",
              "      <th>0</th>\n",
              "      <td>2015-12-16</td>\n",
              "      <td>119.800003</td>\n",
              "      <td>123.000000</td>\n",
              "      <td>118.089996</td>\n",
              "      <td>122.639999</td>\n",
              "      <td>122.639999</td>\n",
              "      <td>13181000</td>\n",
              "    </tr>\n",
              "    <tr>\n",
              "      <th>1</th>\n",
              "      <td>2015-12-17</td>\n",
              "      <td>123.970001</td>\n",
              "      <td>126.349998</td>\n",
              "      <td>122.419998</td>\n",
              "      <td>122.510002</td>\n",
              "      <td>122.510002</td>\n",
              "      <td>17284900</td>\n",
              "    </tr>\n",
              "    <tr>\n",
              "      <th>2</th>\n",
              "      <td>2015-12-18</td>\n",
              "      <td>120.849998</td>\n",
              "      <td>122.190002</td>\n",
              "      <td>117.919998</td>\n",
              "      <td>118.019997</td>\n",
              "      <td>118.019997</td>\n",
              "      <td>17948100</td>\n",
              "    </tr>\n",
              "    <tr>\n",
              "      <th>3</th>\n",
              "      <td>2015-12-21</td>\n",
              "      <td>119.510002</td>\n",
              "      <td>119.589996</td>\n",
              "      <td>115.660004</td>\n",
              "      <td>116.629997</td>\n",
              "      <td>116.629997</td>\n",
              "      <td>11670000</td>\n",
              "    </tr>\n",
              "    <tr>\n",
              "      <th>4</th>\n",
              "      <td>2015-12-22</td>\n",
              "      <td>117.300003</td>\n",
              "      <td>117.430000</td>\n",
              "      <td>114.860001</td>\n",
              "      <td>116.239998</td>\n",
              "      <td>116.239998</td>\n",
              "      <td>9689000</td>\n",
              "    </tr>\n",
              "    <tr>\n",
              "      <th>5</th>\n",
              "      <td>2015-12-23</td>\n",
              "      <td>116.910004</td>\n",
              "      <td>118.559998</td>\n",
              "      <td>115.779999</td>\n",
              "      <td>118.160004</td>\n",
              "      <td>118.160004</td>\n",
              "      <td>9324300</td>\n",
              "    </tr>\n",
              "  </tbody>\n",
              "</table>\n",
              "</div>"
            ],
            "text/plain": [
              "         Date        Open        High  ...       Close   Adj Close    Volume\n",
              "0  2015-12-16  119.800003  123.000000  ...  122.639999  122.639999  13181000\n",
              "1  2015-12-17  123.970001  126.349998  ...  122.510002  122.510002  17284900\n",
              "2  2015-12-18  120.849998  122.190002  ...  118.019997  118.019997  17948100\n",
              "3  2015-12-21  119.510002  119.589996  ...  116.629997  116.629997  11670000\n",
              "4  2015-12-22  117.300003  117.430000  ...  116.239998  116.239998   9689000\n",
              "5  2015-12-23  116.910004  118.559998  ...  118.160004  118.160004   9324300\n",
              "\n",
              "[6 rows x 7 columns]"
            ]
          },
          "metadata": {
            "tags": []
          },
          "execution_count": 5
        }
      ]
    },
    {
      "cell_type": "code",
      "metadata": {
        "colab": {
          "base_uri": "https://localhost:8080/"
        },
        "id": "PO5DJ0mcnl5C",
        "outputId": "dcf021b0-512b-4626-d3aa-799e9a6dbc66"
      },
      "source": [
        "df.shape"
      ],
      "execution_count": null,
      "outputs": [
        {
          "output_type": "execute_result",
          "data": {
            "text/plain": [
              "(1007, 7)"
            ]
          },
          "metadata": {
            "tags": []
          },
          "execution_count": 6
        }
      ]
    },
    {
      "cell_type": "code",
      "metadata": {
        "colab": {
          "base_uri": "https://localhost:8080/",
          "height": 513
        },
        "id": "13IUSCzMopxD",
        "outputId": "8e1d60a1-d715-4f98-a6e6-bee7ab8487bb"
      },
      "source": [
        "### visualize\n",
        "plt.figure(figsize=(16,8))\n",
        "plt.title('NETFLIX')\n",
        "plt.xlabel('Days')\n",
        "plt.ylabel('Close Price in USD$')\n",
        "plt.plot(df['Close'])\n",
        "plt.show()"
      ],
      "execution_count": null,
      "outputs": [
        {
          "output_type": "display_data",
          "data": {
            "image/png": "[encoded data removed]",
            "text/plain": [
              "<Figure size 1152x576 with 1 Axes>"
            ]
          },
          "metadata": {
            "tags": [],
            "needs_background": "light"
          }
        }
      ]
    },
    {
      "cell_type": "code",
      "metadata": {
        "colab": {
          "base_uri": "https://localhost:8080/",
          "height": 173
        },
        "id": "PVq8HjV_sTtD",
        "outputId": "e4b148a9-5871-484f-88b3-76cfdf2c00cd"
      },
      "source": [
        "### get close price\n",
        "df = df[['Close']]\n",
        "df.head(4)"
      ],
      "execution_count": null,
      "outputs": [
        {
          "output_type": "execute_result",
          "data": {
            "text/html": [
              "<div>\n",
              "<style scoped>\n",
              "    .dataframe tbody tr th:only-of-type {\n",
              "        vertical-align: middle;\n",
              "    }\n",
              "\n",
              "    .dataframe tbody tr th {\n",
              "        vertical-align: top;\n",
              "    }\n",
              "\n",
              "    .dataframe thead th {\n",
              "        text-align: right;\n",
              "    }\n",
              "</style>\n",
              "<table border=\"1\" class=\"dataframe\">\n",
              "  <thead>\n",
              "    <tr style=\"text-align: right;\">\n",
              "      <th></th>\n",
              "      <th>Close</th>\n",
              "    </tr>\n",
              "  </thead>\n",
              "  <tbody>\n",
              "    <tr>\n",
              "      <th>0</th>\n",
              "      <td>122.639999</td>\n",
              "    </tr>\n",
              "    <tr>\n",
              "      <th>1</th>\n",
              "      <td>122.510002</td>\n",
              "    </tr>\n",
              "    <tr>\n",
              "      <th>2</th>\n",
              "      <td>118.019997</td>\n",
              "    </tr>\n",
              "    <tr>\n",
              "      <th>3</th>\n",
              "      <td>116.629997</td>\n",
              "    </tr>\n",
              "  </tbody>\n",
              "</table>\n",
              "</div>"
            ],
            "text/plain": [
              "        Close\n",
              "0  122.639999\n",
              "1  122.510002\n",
              "2  118.019997\n",
              "3  116.629997"
            ]
          },
          "metadata": {
            "tags": []
          },
          "execution_count": 8
        }
      ]
    },
    {
      "cell_type": "code",
      "metadata": {
        "colab": {
          "base_uri": "https://localhost:8080/",
          "height": 173
        },
        "id": "Ud92hev2s5dx",
        "outputId": "cc76e965-fb25-463d-a947-93e6ff7981ac"
      },
      "source": [
        "future_days = 150\n",
        "df['Prediction'] = df[['Close']].shift(-future_days)\n",
        "df.head(4)"
      ],
      "execution_count": null,
      "outputs": [
        {
          "output_type": "execute_result",
          "data": {
            "text/html": [
              "<div>\n",
              "<style scoped>\n",
              "    .dataframe tbody tr th:only-of-type {\n",
              "        vertical-align: middle;\n",
              "    }\n",
              "\n",
              "    .dataframe tbody tr th {\n",
              "        vertical-align: top;\n",
              "    }\n",
              "\n",
              "    .dataframe thead th {\n",
              "        text-align: right;\n",
              "    }\n",
              "</style>\n",
              "<table border=\"1\" class=\"dataframe\">\n",
              "  <thead>\n",
              "    <tr style=\"text-align: right;\">\n",
              "      <th></th>\n",
              "      <th>Close</th>\n",
              "      <th>Prediction</th>\n",
              "    </tr>\n",
              "  </thead>\n",
              "  <tbody>\n",
              "    <tr>\n",
              "      <th>0</th>\n",
              "      <td>122.639999</td>\n",
              "      <td>85.889999</td>\n",
              "    </tr>\n",
              "    <tr>\n",
              "      <th>1</th>\n",
              "      <td>122.510002</td>\n",
              "      <td>87.660004</td>\n",
              "    </tr>\n",
              "    <tr>\n",
              "      <th>2</th>\n",
              "      <td>118.019997</td>\n",
              "      <td>91.410004</td>\n",
              "    </tr>\n",
              "    <tr>\n",
              "      <th>3</th>\n",
              "      <td>116.629997</td>\n",
              "      <td>92.040001</td>\n",
              "    </tr>\n",
              "  </tbody>\n",
              "</table>\n",
              "</div>"
            ],
            "text/plain": [
              "        Close  Prediction\n",
              "0  122.639999   85.889999\n",
              "1  122.510002   87.660004\n",
              "2  118.019997   91.410004\n",
              "3  116.629997   92.040001"
            ]
          },
          "metadata": {
            "tags": []
          },
          "execution_count": 9
        }
      ]
    },
    {
      "cell_type": "code",
      "metadata": {
        "colab": {
          "base_uri": "https://localhost:8080/",
          "height": 173
        },
        "id": "WWX5NmB6tszl",
        "outputId": "df354d51-4c64-4f58-a566-83ddba61febd"
      },
      "source": [
        "df.tail(4)"
      ],
      "execution_count": null,
      "outputs": [
        {
          "output_type": "execute_result",
          "data": {
            "text/html": [
              "<div>\n",
              "<style scoped>\n",
              "    .dataframe tbody tr th:only-of-type {\n",
              "        vertical-align: middle;\n",
              "    }\n",
              "\n",
              "    .dataframe tbody tr th {\n",
              "        vertical-align: top;\n",
              "    }\n",
              "\n",
              "    .dataframe thead th {\n",
              "        text-align: right;\n",
              "    }\n",
              "</style>\n",
              "<table border=\"1\" class=\"dataframe\">\n",
              "  <thead>\n",
              "    <tr style=\"text-align: right;\">\n",
              "      <th></th>\n",
              "      <th>Close</th>\n",
              "      <th>Prediction</th>\n",
              "    </tr>\n",
              "  </thead>\n",
              "  <tbody>\n",
              "    <tr>\n",
              "      <th>1003</th>\n",
              "      <td>298.929993</td>\n",
              "      <td>NaN</td>\n",
              "    </tr>\n",
              "    <tr>\n",
              "      <th>1004</th>\n",
              "      <td>298.440002</td>\n",
              "      <td>NaN</td>\n",
              "    </tr>\n",
              "    <tr>\n",
              "      <th>1005</th>\n",
              "      <td>298.500000</td>\n",
              "      <td>NaN</td>\n",
              "    </tr>\n",
              "    <tr>\n",
              "      <th>1006</th>\n",
              "      <td>304.209991</td>\n",
              "      <td>NaN</td>\n",
              "    </tr>\n",
              "  </tbody>\n",
              "</table>\n",
              "</div>"
            ],
            "text/plain": [
              "           Close  Prediction\n",
              "1003  298.929993         NaN\n",
              "1004  298.440002         NaN\n",
              "1005  298.500000         NaN\n",
              "1006  304.209991         NaN"
            ]
          },
          "metadata": {
            "tags": []
          },
          "execution_count": 10
        }
      ]
    },
    {
      "cell_type": "code",
      "metadata": {
        "colab": {
          "base_uri": "https://localhost:8080/"
        },
        "id": "cwa6A_81t3NU",
        "outputId": "564f2292-c026-4513-98e7-eea1d8695759"
      },
      "source": [
        "### Creating feature dataset\n",
        "X = np.array(df.drop(['Prediction'], 1))[:-future_days]\n",
        "print(X)"
      ],
      "execution_count": null,
      "outputs": [
        {
          "output_type": "stream",
          "text": [
            "[[122.639999]\n",
            " [122.510002]\n",
            " [118.019997]\n",
            " [116.629997]\n",
            " [116.239998]\n",
            " [118.160004]\n",
            " [117.330002]\n",
            " [117.110001]\n",
            " [119.120003]\n",
            " [116.709999]\n",
            " [114.379997]\n",
            " [109.959999]\n",
            " [107.660004]\n",
            " [117.68    ]\n",
            " [114.559998]\n",
            " [111.389999]\n",
            " [114.970001]\n",
            " [116.580002]\n",
            " [106.559998]\n",
            " [107.059998]\n",
            " [104.040001]\n",
            " [107.889999]\n",
            " [107.739998]\n",
            " [102.349998]\n",
            " [100.720001]\n",
            " [ 99.120003]\n",
            " [ 97.830002]\n",
            " [ 91.150002]\n",
            " [ 94.410004]\n",
            " [ 91.839996]\n",
            " [ 94.089996]\n",
            " [ 91.489998]\n",
            " [ 90.739998]\n",
            " [ 89.709999]\n",
            " [ 82.790001]\n",
            " [ 83.32    ]\n",
            " [ 86.129997]\n",
            " [ 88.449997]\n",
            " [ 86.349998]\n",
            " [ 87.400002]\n",
            " [ 89.050003]\n",
            " [ 94.760002]\n",
            " [ 90.489998]\n",
            " [ 89.230003]\n",
            " [ 91.93    ]\n",
            " [ 89.120003]\n",
            " [ 91.610001]\n",
            " [ 94.529999]\n",
            " [ 94.790001]\n",
            " [ 93.410004]\n",
            " [ 98.300003]\n",
            " [ 97.610001]\n",
            " [ 97.93    ]\n",
            " [101.580002]\n",
            " [ 95.489998]\n",
            " [ 96.230003]\n",
            " [ 98.      ]\n",
            " [ 97.360001]\n",
            " [ 97.660004]\n",
            " [ 98.129997]\n",
            " [ 97.860001]\n",
            " [ 99.349998]\n",
            " [ 99.720001]\n",
            " [101.120003]\n",
            " [101.059998]\n",
            " [ 99.839996]\n",
            " [ 99.589996]\n",
            " [ 98.360001]\n",
            " [101.209999]\n",
            " [104.129997]\n",
            " [102.190002]\n",
            " [102.230003]\n",
            " [105.699997]\n",
            " [104.349998]\n",
            " [104.940002]\n",
            " [104.830002]\n",
            " [104.449997]\n",
            " [103.809998]\n",
            " [102.68    ]\n",
            " [106.980003]\n",
            " [109.650002]\n",
            " [110.419998]\n",
            " [111.510002]\n",
            " [108.400002]\n",
            " [ 94.339996]\n",
            " [ 96.769997]\n",
            " [ 94.980003]\n",
            " [ 95.900002]\n",
            " [ 93.559998]\n",
            " [ 92.43    ]\n",
            " [ 91.040001]\n",
            " [ 90.279999]\n",
            " [ 90.029999]\n",
            " [ 93.110001]\n",
            " [ 91.540001]\n",
            " [ 90.790001]\n",
            " [ 89.370003]\n",
            " [ 90.839996]\n",
            " [ 90.540001]\n",
            " [ 92.889999]\n",
            " [ 90.019997]\n",
            " [ 87.739998]\n",
            " [ 87.879997]\n",
            " [ 89.120003]\n",
            " [ 88.629997]\n",
            " [ 90.5     ]\n",
            " [ 89.550003]\n",
            " [ 92.489998]\n",
            " [ 94.889999]\n",
            " [ 97.889999]\n",
            " [100.199997]\n",
            " [102.809998]\n",
            " [103.300003]\n",
            " [102.57    ]\n",
            " [101.510002]\n",
            " [101.25    ]\n",
            " [ 99.589996]\n",
            " [100.739998]\n",
            " [ 99.889999]\n",
            " [ 97.860001]\n",
            " [ 97.089996]\n",
            " [ 93.75    ]\n",
            " [ 93.849998]\n",
            " [ 94.120003]\n",
            " [ 94.290001]\n",
            " [ 95.440002]\n",
            " [ 94.449997]\n",
            " [ 93.800003]\n",
            " [ 90.989998]\n",
            " [ 90.010002]\n",
            " [ 91.660004]\n",
            " [ 88.440002]\n",
            " [ 85.330002]\n",
            " [ 87.970001]\n",
            " [ 91.059998]\n",
            " [ 91.480003]\n",
            " [ 96.669998]\n",
            " [ 97.910004]\n",
            " [ 94.599998]\n",
            " [ 95.099998]\n",
            " [ 97.059998]\n",
            " [ 94.669998]\n",
            " [ 95.970001]\n",
            " [ 96.43    ]\n",
            " [ 98.019997]\n",
            " [ 98.389999]\n",
            " [ 98.809998]\n",
            " [ 85.839996]\n",
            " [ 87.910004]\n",
            " [ 85.989998]\n",
            " [ 85.889999]\n",
            " [ 87.660004]\n",
            " [ 91.410004]\n",
            " [ 92.040001]\n",
            " [ 91.650002]\n",
            " [ 91.25    ]\n",
            " [ 94.370003]\n",
            " [ 93.559998]\n",
            " [ 93.099998]\n",
            " [ 93.440002]\n",
            " [ 97.029999]\n",
            " [ 95.110001]\n",
            " [ 93.989998]\n",
            " [ 93.93    ]\n",
            " [ 95.889999]\n",
            " [ 96.589996]\n",
            " [ 95.309998]\n",
            " [ 95.120003]\n",
            " [ 96.370003]\n",
            " [ 96.160004]\n",
            " [ 95.870003]\n",
            " [ 95.260002]\n",
            " [ 95.940002]\n",
            " [ 95.18    ]\n",
            " [ 97.32    ]\n",
            " [ 97.580002]\n",
            " [ 97.300003]\n",
            " [ 97.449997]\n",
            " [ 97.449997]\n",
            " [ 97.379997]\n",
            " [ 97.379997]\n",
            " [100.089996]\n",
            " [ 99.150002]\n",
            " [ 99.660004]\n",
            " [ 96.5     ]\n",
            " [ 99.050003]\n",
            " [ 96.089996]\n",
            " [ 97.010002]\n",
            " [ 97.339996]\n",
            " [ 99.480003]\n",
            " [ 98.059998]\n",
            " [ 98.25    ]\n",
            " [ 94.879997]\n",
            " [ 95.830002]\n",
            " [ 95.940002]\n",
            " [ 94.559998]\n",
            " [ 97.07    ]\n",
            " [ 97.480003]\n",
            " [ 96.669998]\n",
            " [ 98.550003]\n",
            " [102.629997]\n",
            " [102.339996]\n",
            " [106.279999]\n",
            " [105.07    ]\n",
            " [104.82    ]\n",
            " [103.330002]\n",
            " [100.589996]\n",
            " [ 99.5     ]\n",
            " [100.230003]\n",
            " [101.470001]\n",
            " [ 99.800003]\n",
            " [118.790001]\n",
            " [121.870003]\n",
            " [123.349998]\n",
            " [127.5     ]\n",
            " [127.330002]\n",
            " [126.510002]\n",
            " [126.970001]\n",
            " [126.470001]\n",
            " [126.57    ]\n",
            " [124.870003]\n",
            " [123.300003]\n",
            " [122.339996]\n",
            " [122.139999]\n",
            " [122.029999]\n",
            " [124.580002]\n",
            " [124.339996]\n",
            " [122.190002]\n",
            " [115.419998]\n",
            " [114.779999]\n",
            " [113.379997]\n",
            " [113.589996]\n",
            " [115.190002]\n",
            " [115.029999]\n",
            " [115.209999]\n",
            " [117.959999]\n",
            " [118.040001]\n",
            " [117.690002]\n",
            " [117.410004]\n",
            " [116.93    ]\n",
            " [117.510002]\n",
            " [117.      ]\n",
            " [117.220001]\n",
            " [120.809998]\n",
            " [119.160004]\n",
            " [124.57    ]\n",
            " [125.389999]\n",
            " [123.239998]\n",
            " [122.879997]\n",
            " [122.830002]\n",
            " [123.779999]\n",
            " [123.440002]\n",
            " [125.      ]\n",
            " [124.220001]\n",
            " [125.449997]\n",
            " [125.120003]\n",
            " [126.5     ]\n",
            " [125.580002]\n",
            " [125.589996]\n",
            " [128.350006]\n",
            " [125.889999]\n",
            " [125.330002]\n",
            " [123.800003]\n",
            " [127.489998]\n",
            " [129.410004]\n",
            " [131.809998]\n",
            " [131.070007]\n",
            " [130.949997]\n",
            " [129.889999]\n",
            " [130.5     ]\n",
            " [129.179993]\n",
            " [133.699997]\n",
            " [132.889999]\n",
            " [133.259995]\n",
            " [138.410004]\n",
            " [138.600006]\n",
            " [137.389999]\n",
            " [140.110001]\n",
            " [139.520004]\n",
            " [138.960007]\n",
            " [142.449997]\n",
            " [141.220001]\n",
            " [140.710007]\n",
            " [140.779999]\n",
            " [139.199997]\n",
            " [140.25    ]\n",
            " [140.970001]\n",
            " [144.      ]\n",
            " [144.740005]\n",
            " [144.139999]\n",
            " [144.820007]\n",
            " [143.199997]\n",
            " [140.820007]\n",
            " [142.270004]\n",
            " [142.009995]\n",
            " [142.220001]\n",
            " [142.600006]\n",
            " [143.860001]\n",
            " [142.779999]\n",
            " [143.25    ]\n",
            " [143.410004]\n",
            " [142.130005]\n",
            " [142.649994]\n",
            " [139.529999]\n",
            " [139.139999]\n",
            " [141.940002]\n",
            " [141.429993]\n",
            " [140.320007]\n",
            " [140.529999]\n",
            " [140.889999]\n",
            " [143.520004]\n",
            " [143.190002]\n",
            " [145.25    ]\n",
            " [144.389999]\n",
            " [145.110001]\n",
            " [145.830002]\n",
            " [142.419998]\n",
            " [142.649994]\n",
            " [141.839996]\n",
            " [142.020004]\n",
            " [144.059998]\n",
            " [145.169998]\n",
            " [146.470001]\n",
            " [148.059998]\n",
            " [147.809998]\n",
            " [146.919998]\n",
            " [145.5     ]\n",
            " [143.619995]\n",
            " [143.740005]\n",
            " [143.110001]\n",
            " [143.850006]\n",
            " [144.350006]\n",
            " [143.830002]\n",
            " [142.919998]\n",
            " [147.25    ]\n",
            " [143.360001]\n",
            " [139.759995]\n",
            " [141.179993]\n",
            " [142.869995]\n",
            " [143.830002]\n",
            " [152.160004]\n",
            " [150.169998]\n",
            " [153.080002]\n",
            " [152.199997]\n",
            " [155.350006]\n",
            " [156.449997]\n",
            " [155.589996]\n",
            " [157.25    ]\n",
            " [156.600006]\n",
            " [156.380005]\n",
            " [157.460007]\n",
            " [160.279999]\n",
            " [158.539993]\n",
            " [160.809998]\n",
            " [160.020004]\n",
            " [159.410004]\n",
            " [153.199997]\n",
            " [155.699997]\n",
            " [157.020004]\n",
            " [157.160004]\n",
            " [157.949997]\n",
            " [157.75    ]\n",
            " [163.050003]\n",
            " [162.429993]\n",
            " [163.220001]\n",
            " [163.070007]\n",
            " [162.990005]\n",
            " [165.179993]\n",
            " [165.059998]\n",
            " [165.169998]\n",
            " [165.610001]\n",
            " [165.880005]\n",
            " [158.029999]\n",
            " [151.440002]\n",
            " [152.720001]\n",
            " [152.199997]\n",
            " [151.759995]\n",
            " [152.380005]\n",
            " [153.399994]\n",
            " [152.050003]\n",
            " [155.029999]\n",
            " [154.889999]\n",
            " [158.020004]\n",
            " [157.5     ]\n",
            " [151.029999]\n",
            " [153.410004]\n",
            " [150.089996]\n",
            " [149.410004]\n",
            " [146.169998]\n",
            " [147.610001]\n",
            " [146.25    ]\n",
            " [150.179993]\n",
            " [152.669998]\n",
            " [154.330002]\n",
            " [158.75    ]\n",
            " [158.210007]\n",
            " [161.119995]\n",
            " [161.699997]\n",
            " [183.600006]\n",
            " [183.860001]\n",
            " [183.600006]\n",
            " [188.539993]\n",
            " [187.910004]\n",
            " [186.970001]\n",
            " [189.080002]\n",
            " [182.679993]\n",
            " [184.039993]\n",
            " [181.660004]\n",
            " [182.029999]\n",
            " [180.740005]\n",
            " [179.229996]\n",
            " [180.270004]\n",
            " [181.330002]\n",
            " [178.360001]\n",
            " [175.779999]\n",
            " [169.139999]\n",
            " [171.399994]\n",
            " [171.      ]\n",
            " [168.5     ]\n",
            " [169.979996]\n",
            " [166.089996]\n",
            " [166.539993]\n",
            " [166.759995]\n",
            " [169.339996]\n",
            " [169.059998]\n",
            " [168.130005]\n",
            " [165.949997]\n",
            " [167.119995]\n",
            " [168.809998]\n",
            " [174.690002]\n",
            " [174.710007]\n",
            " [174.740005]\n",
            " [174.520004]\n",
            " [179.25    ]\n",
            " [179.      ]\n",
            " [176.419998]\n",
            " [181.740005]\n",
            " [185.149994]\n",
            " [183.639999]\n",
            " [182.630005]\n",
            " [182.350006]\n",
            " [184.619995]\n",
            " [185.679993]\n",
            " [185.509995]\n",
            " [188.779999]\n",
            " [187.350006]\n",
            " [178.550003]\n",
            " [179.380005]\n",
            " [181.970001]\n",
            " [180.699997]\n",
            " [181.350006]\n",
            " [177.009995]\n",
            " [179.190002]\n",
            " [184.449997]\n",
            " [194.389999]\n",
            " [198.020004]\n",
            " [196.869995]\n",
            " [195.080002]\n",
            " [194.949997]\n",
            " [195.860001]\n",
            " [199.490005]\n",
            " [202.679993]\n",
            " [199.479996]\n",
            " [195.539993]\n",
            " [195.130005]\n",
            " [194.160004]\n",
            " [192.470001]\n",
            " [196.020004]\n",
            " [193.770004]\n",
            " [195.210007]\n",
            " [199.539993]\n",
            " [198.369995]\n",
            " [196.429993]\n",
            " [198.      ]\n",
            " [199.320007]\n",
            " [200.009995]\n",
            " [200.130005]\n",
            " [195.889999]\n",
            " [196.440002]\n",
            " [193.899994]\n",
            " [192.020004]\n",
            " [195.080002]\n",
            " [195.710007]\n",
            " [192.119995]\n",
            " [195.509995]\n",
            " [193.199997]\n",
            " [194.100006]\n",
            " [196.229996]\n",
            " [196.320007]\n",
            " [195.75    ]\n",
            " [195.050003]\n",
            " [199.179993]\n",
            " [188.149994]\n",
            " [187.580002]\n",
            " [186.820007]\n",
            " [184.039993]\n",
            " [184.210007]\n",
            " [185.300003]\n",
            " [185.199997]\n",
            " [188.539993]\n",
            " [186.220001]\n",
            " [185.729996]\n",
            " [187.860001]\n",
            " [189.559998]\n",
            " [190.119995]\n",
            " [190.419998]\n",
            " [187.020004]\n",
            " [188.820007]\n",
            " [188.619995]\n",
            " [189.940002]\n",
            " [187.759995]\n",
            " [186.240005]\n",
            " [192.710007]\n",
            " [191.960007]\n",
            " [201.070007]\n",
            " [205.050003]\n",
            " [205.630005]\n",
            " [209.990005]\n",
            " [212.050003]\n",
            " [209.309998]\n",
            " [212.520004]\n",
            " [217.240005]\n",
            " [221.229996]\n",
            " [221.529999]\n",
            " [217.5     ]\n",
            " [220.330002]\n",
            " [220.460007]\n",
            " [227.580002]\n",
            " [250.289993]\n",
            " [261.299988]\n",
            " [269.700012]\n",
            " [274.600006]\n",
            " [284.589996]\n",
            " [278.799988]\n",
            " [270.299988]\n",
            " [265.070007]\n",
            " [267.429993]\n",
            " [254.259995]\n",
            " [265.720001]\n",
            " [264.559998]\n",
            " [250.100006]\n",
            " [249.470001]\n",
            " [257.950012]\n",
            " [258.269989]\n",
            " [266.      ]\n",
            " [280.269989]\n",
            " [278.519989]\n",
            " [278.549988]\n",
            " [281.040009]\n",
            " [278.140015]\n",
            " [285.929993]\n",
            " [294.160004]\n",
            " [290.609985]\n",
            " [291.380005]\n",
            " [290.390015]\n",
            " [301.049988]\n",
            " [315.      ]\n",
            " [325.220001]\n",
            " [321.160004]\n",
            " [317.      ]\n",
            " [331.440002]\n",
            " [321.299988]\n",
            " [315.880005]\n",
            " [321.549988]\n",
            " [321.089996]\n",
            " [318.450012]\n",
            " [313.480011]\n",
            " [317.5     ]\n",
            " [316.480011]\n",
            " [306.700012]\n",
            " [300.940002]\n",
            " [320.350006]\n",
            " [300.690002]\n",
            " [285.769989]\n",
            " [295.350006]\n",
            " [280.290009]\n",
            " [283.670013]\n",
            " [288.940002]\n",
            " [293.970001]\n",
            " [288.850006]\n",
            " [289.929993]\n",
            " [298.070007]\n",
            " [303.670013]\n",
            " [309.25    ]\n",
            " [311.649994]\n",
            " [307.779999]\n",
            " [336.059998]\n",
            " [334.519989]\n",
            " [332.700012]\n",
            " [327.769989]\n",
            " [318.690002]\n",
            " [307.019989]\n",
            " [305.76001 ]\n",
            " [313.980011]\n",
            " [311.76001 ]\n",
            " [312.459991]\n",
            " [313.299988]\n",
            " [313.359985]\n",
            " [311.690002]\n",
            " [320.089996]\n",
            " [326.26001 ]\n",
            " [326.890015]\n",
            " [330.299988]\n",
            " [329.600006]\n",
            " [326.459991]\n",
            " [328.529999]\n",
            " [326.130005]\n",
            " [328.190002]\n",
            " [325.220001]\n",
            " [324.179993]\n",
            " [331.820007]\n",
            " [331.619995]\n",
            " [344.720001]\n",
            " [349.290009]\n",
            " [351.290009]\n",
            " [349.730011]\n",
            " [353.540009]\n",
            " [351.600006]\n",
            " [359.929993]\n",
            " [361.809998]\n",
            " [365.799988]\n",
            " [367.450012]\n",
            " [361.399994]\n",
            " [360.570007]\n",
            " [361.450012]\n",
            " [363.829987]\n",
            " [379.929993]\n",
            " [392.869995]\n",
            " [391.980011]\n",
            " [390.399994]\n",
            " [404.980011]\n",
            " [416.76001 ]\n",
            " [415.440002]\n",
            " [411.089996]\n",
            " [384.480011]\n",
            " [399.390015]\n",
            " [390.390015]\n",
            " [395.420013]\n",
            " [391.429993]\n",
            " [398.179993]\n",
            " [390.519989]\n",
            " [398.390015]\n",
            " [408.25    ]\n",
            " [418.970001]\n",
            " [415.630005]\n",
            " [418.649994]\n",
            " [413.5     ]\n",
            " [395.799988]\n",
            " [400.480011]\n",
            " [379.480011]\n",
            " [375.130005]\n",
            " [364.230011]\n",
            " [361.049988]\n",
            " [362.660004]\n",
            " [357.320007]\n",
            " [362.869995]\n",
            " [363.089996]\n",
            " [355.209991]\n",
            " [334.959991]\n",
            " [337.450012]\n",
            " [338.380005]\n",
            " [344.5     ]\n",
            " [343.089996]\n",
            " [350.920013]\n",
            " [351.829987]\n",
            " [347.609985]\n",
            " [349.359985]\n",
            " [345.869995]\n",
            " [341.309998]\n",
            " [337.48999 ]\n",
            " [326.399994]\n",
            " [322.440002]\n",
            " [316.779999]\n",
            " [327.730011]\n",
            " [338.019989]\n",
            " [344.440002]\n",
            " [339.170013]\n",
            " [358.820007]\n",
            " [364.579987]\n",
            " [368.48999 ]\n",
            " [368.040009]\n",
            " [370.980011]\n",
            " [367.679993]\n",
            " [363.600006]\n",
            " [341.179993]\n",
            " [346.459991]\n",
            " [348.679993]\n",
            " [348.410004]\n",
            " [355.929993]\n",
            " [369.950012]\n",
            " [368.149994]\n",
            " [364.559998]\n",
            " [350.350006]\n",
            " [367.649994]\n",
            " [366.959991]\n",
            " [365.359985]\n",
            " [361.190002]\n",
            " [369.609985]\n",
            " [369.429993]\n",
            " [377.880005]\n",
            " [380.709991]\n",
            " [374.130005]\n",
            " [381.429993]\n",
            " [377.140015]\n",
            " [377.049988]\n",
            " [363.649994]\n",
            " [351.350006]\n",
            " [349.100006]\n",
            " [355.709991]\n",
            " [325.890015]\n",
            " [321.100006]\n",
            " [339.559998]\n",
            " [333.130005]\n",
            " [346.399994]\n",
            " [364.700012]\n",
            " [346.709991]\n",
            " [332.670013]\n",
            " [329.540009]\n",
            " [333.160004]\n",
            " [301.829987]\n",
            " [312.869995]\n",
            " [299.829987]\n",
            " [284.839996]\n",
            " [285.809998]\n",
            " [301.779999]\n",
            " [317.380005]\n",
            " [309.100006]\n",
            " [315.440002]\n",
            " [310.839996]\n",
            " [327.5     ]\n",
            " [317.920013]\n",
            " [303.470001]\n",
            " [294.070007]\n",
            " [294.399994]\n",
            " [286.730011]\n",
            " [290.059998]\n",
            " [286.209991]\n",
            " [270.600006]\n",
            " [266.980011]\n",
            " [262.130005]\n",
            " [258.820007]\n",
            " [261.429993]\n",
            " [266.630005]\n",
            " [282.649994]\n",
            " [288.75    ]\n",
            " [286.130005]\n",
            " [290.299988]\n",
            " [275.329987]\n",
            " [282.880005]\n",
            " [265.140015]\n",
            " [269.700012]\n",
            " [265.320007]\n",
            " [274.880005]\n",
            " [276.019989]\n",
            " [266.839996]\n",
            " [262.799988]\n",
            " [270.940002]\n",
            " [266.769989]\n",
            " [260.579987]\n",
            " [246.389999]\n",
            " [233.880005]\n",
            " [253.669998]\n",
            " [255.570007]\n",
            " [256.079987]\n",
            " [267.660004]\n",
            " [267.660004]\n",
            " [271.200012]\n",
            " [297.570007]\n",
            " [315.339996]\n",
            " [320.269989]\n",
            " [319.959991]\n",
            " [324.660004]\n",
            " [337.589996]\n",
            " [332.940002]\n",
            " [354.640015]\n",
            " [351.390015]\n",
            " [353.190002]\n",
            " [339.100006]\n",
            " [325.160004]\n",
            " [321.98999 ]\n",
            " [326.670013]\n",
            " [338.049988]\n",
            " [335.660004]\n",
            " [328.899994]\n",
            " [340.660004]\n",
            " [339.5     ]\n",
            " [339.850006]\n",
            " [351.339996]\n",
            " [355.809998]\n",
            " [352.190002]\n",
            " [344.709991]\n",
            " [347.570007]\n",
            " [345.730011]\n",
            " [359.970001]\n",
            " [351.769989]\n",
            " [359.070007]\n",
            " [356.869995]\n",
            " [361.920013]\n",
            " [359.910004]\n",
            " [356.970001]\n",
            " [363.019989]\n",
            " [363.910004]\n",
            " [364.970001]\n",
            " [362.869995]\n",
            " [358.100006]\n",
            " [357.320007]\n",
            " [351.040009]\n",
            " [354.299988]\n",
            " [359.609985]\n",
            " [352.600006]\n",
            " [349.600006]\n",
            " [358.859985]\n",
            " [356.269989]\n",
            " [361.209991]\n",
            " [358.820007]\n",
            " [361.459991]\n",
            " [363.440002]\n",
            " [358.779999]\n",
            " [375.220001]\n",
            " [377.869995]\n",
            " [361.01001 ]\n",
            " [366.230011]\n",
            " [359.970001]\n",
            " [353.369995]\n",
            " [354.609985]\n",
            " [356.559998]\n",
            " [366.959991]\n",
            " [367.720001]\n",
            " [369.75    ]\n",
            " [367.880005]\n",
            " [365.48999 ]\n",
            " [361.410004]\n",
            " [364.709991]\n",
            " [363.920013]\n",
            " [367.649994]\n",
            " [351.140015]\n",
            " [348.869995]\n",
            " [359.459991]\n",
            " [354.73999 ]\n",
            " [360.350006]\n",
            " [377.339996]\n",
            " [381.890015]\n",
            " [374.230011]\n",
            " [368.329987]\n",
            " [374.850006]\n",
            " [371.829987]\n",
            " [370.540009]\n",
            " [378.809998]\n",
            " [379.059998]\n",
            " [385.029999]\n",
            " [378.670013]\n",
            " [370.459991]\n",
            " [364.369995]\n",
            " [362.75    ]\n",
            " [361.040009]\n",
            " [345.26001 ]\n",
            " [345.609985]]\n"
          ],
          "name": "stdout"
        }
      ]
    },
    {
      "cell_type": "code",
      "metadata": {
        "colab": {
          "base_uri": "https://localhost:8080/"
        },
        "id": "4VyvjA-Lu6KS",
        "outputId": "f1a39956-8f26-414b-d9b1-a9f5119d3f4e"
      },
      "source": [
        "### creating target data\n",
        "y = np.array(df['Prediction'])[:-future_days]\n",
        "print(y)"
      ],
      "execution_count": null,
      "outputs": [
        {
          "output_type": "stream",
          "text": [
            "[ 85.889999  87.660004  91.410004  92.040001  91.650002  91.25\n",
            "  94.370003  93.559998  93.099998  93.440002  97.029999  95.110001\n",
            "  93.989998  93.93      95.889999  96.589996  95.309998  95.120003\n",
            "  96.370003  96.160004  95.870003  95.260002  95.940002  95.18\n",
            "  97.32      97.580002  97.300003  97.449997  97.449997  97.379997\n",
            "  97.379997 100.089996  99.150002  99.660004  96.5       99.050003\n",
            "  96.089996  97.010002  97.339996  99.480003  98.059998  98.25\n",
            "  94.879997  95.830002  95.940002  94.559998  97.07      97.480003\n",
            "  96.669998  98.550003 102.629997 102.339996 106.279999 105.07\n",
            " 104.82     103.330002 100.589996  99.5      100.230003 101.470001\n",
            "  99.800003 118.790001 121.870003 123.349998 127.5      127.330002\n",
            " 126.510002 126.970001 126.470001 126.57     124.870003 123.300003\n",
            " 122.339996 122.139999 122.029999 124.580002 124.339996 122.190002\n",
            " 115.419998 114.779999 113.379997 113.589996 115.190002 115.029999\n",
            " 115.209999 117.959999 118.040001 117.690002 117.410004 116.93\n",
            " 117.510002 117.       117.220001 120.809998 119.160004 124.57\n",
            " 125.389999 123.239998 122.879997 122.830002 123.779999 123.440002\n",
            " 125.       124.220001 125.449997 125.120003 126.5      125.580002\n",
            " 125.589996 128.350006 125.889999 125.330002 123.800003 127.489998\n",
            " 129.410004 131.809998 131.070007 130.949997 129.889999 130.5\n",
            " 129.179993 133.699997 132.889999 133.259995 138.410004 138.600006\n",
            " 137.389999 140.110001 139.520004 138.960007 142.449997 141.220001\n",
            " 140.710007 140.779999 139.199997 140.25     140.970001 144.\n",
            " 144.740005 144.139999 144.820007 143.199997 140.820007 142.270004\n",
            " 142.009995 142.220001 142.600006 143.860001 142.779999 143.25\n",
            " 143.410004 142.130005 142.649994 139.529999 139.139999 141.940002\n",
            " 141.429993 140.320007 140.529999 140.889999 143.520004 143.190002\n",
            " 145.25     144.389999 145.110001 145.830002 142.419998 142.649994\n",
            " 141.839996 142.020004 144.059998 145.169998 146.470001 148.059998\n",
            " 147.809998 146.919998 145.5      143.619995 143.740005 143.110001\n",
            " 143.850006 144.350006 143.830002 142.919998 147.25     143.360001\n",
            " 139.759995 141.179993 142.869995 143.830002 152.160004 150.169998\n",
            " 153.080002 152.199997 155.350006 156.449997 155.589996 157.25\n",
            " 156.600006 156.380005 157.460007 160.279999 158.539993 160.809998\n",
            " 160.020004 159.410004 153.199997 155.699997 157.020004 157.160004\n",
            " 157.949997 157.75     163.050003 162.429993 163.220001 163.070007\n",
            " 162.990005 165.179993 165.059998 165.169998 165.610001 165.880005\n",
            " 158.029999 151.440002 152.720001 152.199997 151.759995 152.380005\n",
            " 153.399994 152.050003 155.029999 154.889999 158.020004 157.5\n",
            " 151.029999 153.410004 150.089996 149.410004 146.169998 147.610001\n",
            " 146.25     150.179993 152.669998 154.330002 158.75     158.210007\n",
            " 161.119995 161.699997 183.600006 183.860001 183.600006 188.539993\n",
            " 187.910004 186.970001 189.080002 182.679993 184.039993 181.660004\n",
            " 182.029999 180.740005 179.229996 180.270004 181.330002 178.360001\n",
            " 175.779999 169.139999 171.399994 171.       168.5      169.979996\n",
            " 166.089996 166.539993 166.759995 169.339996 169.059998 168.130005\n",
            " 165.949997 167.119995 168.809998 174.690002 174.710007 174.740005\n",
            " 174.520004 179.25     179.       176.419998 181.740005 185.149994\n",
            " 183.639999 182.630005 182.350006 184.619995 185.679993 185.509995\n",
            " 188.779999 187.350006 178.550003 179.380005 181.970001 180.699997\n",
            " 181.350006 177.009995 179.190002 184.449997 194.389999 198.020004\n",
            " 196.869995 195.080002 194.949997 195.860001 199.490005 202.679993\n",
            " 199.479996 195.539993 195.130005 194.160004 192.470001 196.020004\n",
            " 193.770004 195.210007 199.539993 198.369995 196.429993 198.\n",
            " 199.320007 200.009995 200.130005 195.889999 196.440002 193.899994\n",
            " 192.020004 195.080002 195.710007 192.119995 195.509995 193.199997\n",
            " 194.100006 196.229996 196.320007 195.75     195.050003 199.179993\n",
            " 188.149994 187.580002 186.820007 184.039993 184.210007 185.300003\n",
            " 185.199997 188.539993 186.220001 185.729996 187.860001 189.559998\n",
            " 190.119995 190.419998 187.020004 188.820007 188.619995 189.940002\n",
            " 187.759995 186.240005 192.710007 191.960007 201.070007 205.050003\n",
            " 205.630005 209.990005 212.050003 209.309998 212.520004 217.240005\n",
            " 221.229996 221.529999 217.5      220.330002 220.460007 227.580002\n",
            " 250.289993 261.299988 269.700012 274.600006 284.589996 278.799988\n",
            " 270.299988 265.070007 267.429993 254.259995 265.720001 264.559998\n",
            " 250.100006 249.470001 257.950012 258.269989 266.       280.269989\n",
            " 278.519989 278.549988 281.040009 278.140015 285.929993 294.160004\n",
            " 290.609985 291.380005 290.390015 301.049988 315.       325.220001\n",
            " 321.160004 317.       331.440002 321.299988 315.880005 321.549988\n",
            " 321.089996 318.450012 313.480011 317.5      316.480011 306.700012\n",
            " 300.940002 320.350006 300.690002 285.769989 295.350006 280.290009\n",
            " 283.670013 288.940002 293.970001 288.850006 289.929993 298.070007\n",
            " 303.670013 309.25     311.649994 307.779999 336.059998 334.519989\n",
            " 332.700012 327.769989 318.690002 307.019989 305.76001  313.980011\n",
            " 311.76001  312.459991 313.299988 313.359985 311.690002 320.089996\n",
            " 326.26001  326.890015 330.299988 329.600006 326.459991 328.529999\n",
            " 326.130005 328.190002 325.220001 324.179993 331.820007 331.619995\n",
            " 344.720001 349.290009 351.290009 349.730011 353.540009 351.600006\n",
            " 359.929993 361.809998 365.799988 367.450012 361.399994 360.570007\n",
            " 361.450012 363.829987 379.929993 392.869995 391.980011 390.399994\n",
            " 404.980011 416.76001  415.440002 411.089996 384.480011 399.390015\n",
            " 390.390015 395.420013 391.429993 398.179993 390.519989 398.390015\n",
            " 408.25     418.970001 415.630005 418.649994 413.5      395.799988\n",
            " 400.480011 379.480011 375.130005 364.230011 361.049988 362.660004\n",
            " 357.320007 362.869995 363.089996 355.209991 334.959991 337.450012\n",
            " 338.380005 344.5      343.089996 350.920013 351.829987 347.609985\n",
            " 349.359985 345.869995 341.309998 337.48999  326.399994 322.440002\n",
            " 316.779999 327.730011 338.019989 344.440002 339.170013 358.820007\n",
            " 364.579987 368.48999  368.040009 370.980011 367.679993 363.600006\n",
            " 341.179993 346.459991 348.679993 348.410004 355.929993 369.950012\n",
            " 368.149994 364.559998 350.350006 367.649994 366.959991 365.359985\n",
            " 361.190002 369.609985 369.429993 377.880005 380.709991 374.130005\n",
            " 381.429993 377.140015 377.049988 363.649994 351.350006 349.100006\n",
            " 355.709991 325.890015 321.100006 339.559998 333.130005 346.399994\n",
            " 364.700012 346.709991 332.670013 329.540009 333.160004 301.829987\n",
            " 312.869995 299.829987 284.839996 285.809998 301.779999 317.380005\n",
            " 309.100006 315.440002 310.839996 327.5      317.920013 303.470001\n",
            " 294.070007 294.399994 286.730011 290.059998 286.209991 270.600006\n",
            " 266.980011 262.130005 258.820007 261.429993 266.630005 282.649994\n",
            " 288.75     286.130005 290.299988 275.329987 282.880005 265.140015\n",
            " 269.700012 265.320007 274.880005 276.019989 266.839996 262.799988\n",
            " 270.940002 266.769989 260.579987 246.389999 233.880005 253.669998\n",
            " 255.570007 256.079987 267.660004 267.660004 271.200012 297.570007\n",
            " 315.339996 320.269989 319.959991 324.660004 337.589996 332.940002\n",
            " 354.640015 351.390015 353.190002 339.100006 325.160004 321.98999\n",
            " 326.670013 338.049988 335.660004 328.899994 340.660004 339.5\n",
            " 339.850006 351.339996 355.809998 352.190002 344.709991 347.570007\n",
            " 345.730011 359.970001 351.769989 359.070007 356.869995 361.920013\n",
            " 359.910004 356.970001 363.019989 363.910004 364.970001 362.869995\n",
            " 358.100006 357.320007 351.040009 354.299988 359.609985 352.600006\n",
            " 349.600006 358.859985 356.269989 361.209991 358.820007 361.459991\n",
            " 363.440002 358.779999 375.220001 377.869995 361.01001  366.230011\n",
            " 359.970001 353.369995 354.609985 356.559998 366.959991 367.720001\n",
            " 369.75     367.880005 365.48999  361.410004 364.709991 363.920013\n",
            " 367.649994 351.140015 348.869995 359.459991 354.73999  360.350006\n",
            " 377.339996 381.890015 374.230011 368.329987 374.850006 371.829987\n",
            " 370.540009 378.809998 379.059998 385.029999 378.670013 370.459991\n",
            " 364.369995 362.75     361.040009 345.26001  345.609985 354.98999\n",
            " 359.309998 354.450012 348.109985 354.269989 359.730011 352.209991\n",
            " 354.390015 355.059998 349.190002 351.850006 343.279999 336.630005\n",
            " 353.399994 355.730011 357.130005 360.869995 352.01001  351.269989\n",
            " 345.559998 343.429993 339.730011 350.619995 357.119995 363.519989\n",
            " 365.209991 369.209991 371.040009 360.299988 362.200012 370.019989\n",
            " 367.320007 374.600006 375.429993 381.720001 380.549988 376.160004\n",
            " 379.929993 381.       379.5      373.25     366.600006 365.98999\n",
            " 362.440002 325.209991 315.100006 310.619995 307.299988 317.940002\n",
            " 326.459991 335.779999 332.700012 325.929993 322.98999  319.5\n",
            " 318.829987 307.630005 310.100006 304.290009 315.899994 308.929993\n",
            " 310.829987 312.279999 299.109985 295.76001  302.799988 309.380005\n",
            " 298.98999  297.809998 296.929993 291.440002 294.980011 291.029999\n",
            " 291.769989 296.779999 293.75     289.290009 291.519989 293.25\n",
            " 290.170013 294.339996 287.98999  288.269989 288.859985 294.149994\n",
            " 294.290009 298.600006 291.559998 286.600006 270.75     265.920013\n",
            " 254.589996 264.75     263.309998 263.079987 267.619995 269.579987\n",
            " 268.029999 268.149994 272.790009 274.459991 270.720001 267.529999\n",
            " 280.480011 282.929993 285.529999 284.25     286.279999 293.350006\n",
            " 275.299988 278.049988 266.690002 271.269989 271.5      276.820007\n",
            " 281.859985 281.209991 291.450012 287.410004 286.809998 292.859985\n",
            " 288.029999 288.589996 289.570007 291.570007 294.179993 292.01001\n",
            " 283.109985 289.619995 295.029999 302.570007 302.600006 305.160004\n",
            " 311.690002 310.480011 315.549988 312.48999  315.929993 314.660004\n",
            " 309.98999  306.160004 304.320007 302.859985 307.350006 302.5\n",
            " 293.119995 298.929993 298.440002 298.5      304.209991]\n"
          ],
          "name": "stdout"
        }
      ]
    },
    {
      "cell_type": "code",
      "metadata": {
        "id": "YFSa5zNIvg7L"
      },
      "source": [
        "### Splitting data into 75% training & 25% testing dataset\n",
        "x_train, x_test, y_train, y_test = train_test_split(X, y, test_size = 0.25)"
      ],
      "execution_count": null,
      "outputs": []
    },
    {
      "cell_type": "code",
      "metadata": {
        "id": "5gYAUM2_wkE4"
      },
      "source": [
        "### creating models\n",
        "### Creating DTReggresor model\n",
        "tree = DecisionTreeRegressor().fit(x_train, y_train)\n",
        "### Creating LinearRegressor\n",
        "lr =  LinearRegression().fit(x_train, y_train)"
      ],
      "execution_count": null,
      "outputs": []
    },
    {
      "cell_type": "code",
      "metadata": {
        "colab": {
          "base_uri": "https://localhost:8080/"
        },
        "id": "eKma_Wi_yWfH",
        "outputId": "658c4c43-78e2-4423-b75c-60bfbe051aa5"
      },
      "source": [
        "### get the x rows of the feature dataset\n",
        "x_future = df.drop(['Prediction'], 1)[:-future_days]\n",
        "x_future = x_future.tail(future_days)\n",
        "x_future = np.array(x_future)\n",
        "x_future"
      ],
      "execution_count": null,
      "outputs": [
        {
          "output_type": "execute_result",
          "data": {
            "text/plain": [
              "array([[349.100006],\n",
              "       [355.709991],\n",
              "       [325.890015],\n",
              "       [321.100006],\n",
              "       [339.559998],\n",
              "       [333.130005],\n",
              "       [346.399994],\n",
              "       [364.700012],\n",
              "       [346.709991],\n",
              "       [332.670013],\n",
              "       [329.540009],\n",
              "       [333.160004],\n",
              "       [301.829987],\n",
              "       [312.869995],\n",
              "       [299.829987],\n",
              "       [284.839996],\n",
              "       [285.809998],\n",
              "       [301.779999],\n",
              "       [317.380005],\n",
              "       [309.100006],\n",
              "       [315.440002],\n",
              "       [310.839996],\n",
              "       [327.5     ],\n",
              "       [317.920013],\n",
              "       [303.470001],\n",
              "       [294.070007],\n",
              "       [294.399994],\n",
              "       [286.730011],\n",
              "       [290.059998],\n",
              "       [286.209991],\n",
              "       [270.600006],\n",
              "       [266.980011],\n",
              "       [262.130005],\n",
              "       [258.820007],\n",
              "       [261.429993],\n",
              "       [266.630005],\n",
              "       [282.649994],\n",
              "       [288.75    ],\n",
              "       [286.130005],\n",
              "       [290.299988],\n",
              "       [275.329987],\n",
              "       [282.880005],\n",
              "       [265.140015],\n",
              "       [269.700012],\n",
              "       [265.320007],\n",
              "       [274.880005],\n",
              "       [276.019989],\n",
              "       [266.839996],\n",
              "       [262.799988],\n",
              "       [270.940002],\n",
              "       [266.769989],\n",
              "       [260.579987],\n",
              "       [246.389999],\n",
              "       [233.880005],\n",
              "       [253.669998],\n",
              "       [255.570007],\n",
              "       [256.079987],\n",
              "       [267.660004],\n",
              "       [267.660004],\n",
              "       [271.200012],\n",
              "       [297.570007],\n",
              "       [315.339996],\n",
              "       [320.269989],\n",
              "       [319.959991],\n",
              "       [324.660004],\n",
              "       [337.589996],\n",
              "       [332.940002],\n",
              "       [354.640015],\n",
              "       [351.390015],\n",
              "       [353.190002],\n",
              "       [339.100006],\n",
              "       [325.160004],\n",
              "       [321.98999 ],\n",
              "       [326.670013],\n",
              "       [338.049988],\n",
              "       [335.660004],\n",
              "       [328.899994],\n",
              "       [340.660004],\n",
              "       [339.5     ],\n",
              "       [339.850006],\n",
              "       [351.339996],\n",
              "       [355.809998],\n",
              "       [352.190002],\n",
              "       [344.709991],\n",
              "       [347.570007],\n",
              "       [345.730011],\n",
              "       [359.970001],\n",
              "       [351.769989],\n",
              "       [359.070007],\n",
              "       [356.869995],\n",
              "       [361.920013],\n",
              "       [359.910004],\n",
              "       [356.970001],\n",
              "       [363.019989],\n",
              "       [363.910004],\n",
              "       [364.970001],\n",
              "       [362.869995],\n",
              "       [358.100006],\n",
              "       [357.320007],\n",
              "       [351.040009],\n",
              "       [354.299988],\n",
              "       [359.609985],\n",
              "       [352.600006],\n",
              "       [349.600006],\n",
              "       [358.859985],\n",
              "       [356.269989],\n",
              "       [361.209991],\n",
              "       [358.820007],\n",
              "       [361.459991],\n",
              "       [363.440002],\n",
              "       [358.779999],\n",
              "       [375.220001],\n",
              "       [377.869995],\n",
              "       [361.01001 ],\n",
              "       [366.230011],\n",
              "       [359.970001],\n",
              "       [353.369995],\n",
              "       [354.609985],\n",
              "       [356.559998],\n",
              "       [366.959991],\n",
              "       [367.720001],\n",
              "       [369.75    ],\n",
              "       [367.880005],\n",
              "       [365.48999 ],\n",
              "       [361.410004],\n",
              "       [364.709991],\n",
              "       [363.920013],\n",
              "       [367.649994],\n",
              "       [351.140015],\n",
              "       [348.869995],\n",
              "       [359.459991],\n",
              "       [354.73999 ],\n",
              "       [360.350006],\n",
              "       [377.339996],\n",
              "       [381.890015],\n",
              "       [374.230011],\n",
              "       [368.329987],\n",
              "       [374.850006],\n",
              "       [371.829987],\n",
              "       [370.540009],\n",
              "       [378.809998],\n",
              "       [379.059998],\n",
              "       [385.029999],\n",
              "       [378.670013],\n",
              "       [370.459991],\n",
              "       [364.369995],\n",
              "       [362.75    ],\n",
              "       [361.040009],\n",
              "       [345.26001 ],\n",
              "       [345.609985]])"
            ]
          },
          "metadata": {
            "tags": []
          },
          "execution_count": 15
        }
      ]
    },
    {
      "cell_type": "code",
      "metadata": {
        "colab": {
          "base_uri": "https://localhost:8080/"
        },
        "id": "i5xlqJqNzz_T",
        "outputId": "fbabb520-674c-4793-98e9-6185733fe75f"
      },
      "source": [
        "### Showing model tree prediction\n",
        "tree_prediction = tree.predict(x_future)\n",
        "print(tree_prediction)\n",
        "print()\n",
        "### Showing model linear prediction\n",
        "lr_prediction = lr.predict(x_future)\n",
        "print(lr_prediction)"
      ],
      "execution_count": null,
      "outputs": [
        {
          "output_type": "stream",
          "text": [
            "[354.98999   359.309998  354.450012  348.109985  354.269989  359.730011\n",
            " 351.140015  354.390015  355.059998  349.190002  289.290009  343.279999\n",
            " 336.630005  353.399994  355.730011  357.130005  360.869995  352.01001\n",
            " 351.269989  345.559998  310.829987  286.730011  353.369995  357.119995\n",
            " 363.519989  365.209991  369.209991  371.040009  317.920013  362.200012\n",
            " 370.019989  335.779999  317.940002  375.429993  381.720001  335.779999\n",
            " 376.160004  327.5       381.        379.5       373.25      376.160004\n",
            " 365.98999   365.2400055 365.98999   315.100006  373.25      335.779999\n",
            " 317.940002  315.899994  335.779999  332.700012  325.929993  358.820007\n",
            " 319.5       307.630005  307.630005  307.1950075 307.1950075 315.899994\n",
            " 308.929993  310.829987  299.829987  299.109985  295.76001   296.779999\n",
            " 359.730011  298.98999   297.809998  296.929993  366.959991  260.579987\n",
            " 291.029999  291.769989  296.779999  286.209991  289.290009  291.519989\n",
            " 293.25      354.269989  294.339996  287.98999   288.269989  288.859985\n",
            " 294.149994  294.290009  281.859985  291.559998  286.600006  264.75\n",
            " 320.269989  254.589996  264.75      263.309998  263.079987  267.619995\n",
            " 313.449997  268.029999  313.125     272.790009  291.450012  270.720001\n",
            " 288.269989  267.660004  286.279999  285.529999  284.25      286.279999\n",
            " 354.640015  363.920013  278.049988  266.690002  271.269989  271.5\n",
            " 276.820007  281.859985  271.200012  291.450012  287.410004  286.809998\n",
            " 364.709991  378.809998  288.589996  289.570007  291.570007  354.390015\n",
            " 292.01001   325.719986  289.619995  348.869995  302.570007  302.600006\n",
            " 305.160004  311.690002  310.480011  315.549988  312.48999   315.929993\n",
            " 314.660004  309.98999   306.160004  304.320007  302.859985  307.350006\n",
            " 302.5       293.119995  298.929993  364.970001  304.209991  304.209991 ]\n",
            "\n",
            "[345.78440611 350.44450099 329.42116772 326.04417118 339.05862042\n",
            " 334.52542141 343.88087499 356.78254122 344.09942548 334.20112319\n",
            " 331.99444411 334.54657096 312.45864611 320.24194438 311.04862933\n",
            " 300.48055991 301.16441946 312.42340415 323.42153927 317.5840705\n",
            " 322.05382088 318.81077805 330.55622065 323.80224944 313.61486974\n",
            " 306.9877951  307.22043871 301.81303634 304.16070511 301.44641788\n",
            " 290.44124748 287.88912064 284.46982571 282.13624935 283.97631138\n",
            " 287.64236347 298.93659012 303.23714553 301.39002708 304.32990008\n",
            " 293.77592377 299.09874981 286.59190802 289.80674416 286.71880389\n",
            " 293.45868269 294.26238097 287.79040889 284.94216935 290.68094752\n",
            " 287.74105336 283.37705002 273.37298942 264.55333869 278.5054498\n",
            " 279.84497208 280.20451226 288.36852141 288.36852141 290.86425675\n",
            " 309.45532447 321.98331581 325.45900223 325.24045104 328.55399964\n",
            " 337.66975249 334.3914677  349.69015893 347.39888167 348.6678876\n",
            " 338.73432221 328.90650384 326.67161737 329.97107285 337.99405071\n",
            " 336.30909193 331.54322817 339.83413388 339.01632133 339.2630785\n",
            " 347.36361785 350.51500676 347.96287921 342.6894087  344.70574397\n",
            " 343.40853136 353.44784378 347.66676652 352.81334046 351.26231354\n",
            " 354.8226186  353.40554539 351.33281861 355.59811091 356.22557895\n",
            " 356.97288573 355.49236388 352.12948162 351.57957578 347.1521245\n",
            " 349.45043705 353.19402948 348.25193547 346.1369103  352.66527319\n",
            " 350.83930428 354.32204714 352.63708836 354.49829923 355.8942236\n",
            " 352.60888239 364.19922173 366.06748974 354.18105885 357.86120335\n",
            " 353.44784378 348.79478418 349.66898753 351.04376306 358.37584538\n",
            " 358.91165881 360.34282513 359.02446297 357.33948234 354.46305798\n",
            " 356.7895765  356.23263538 358.86230328 347.22262957 345.62224642\n",
            " 353.08828245 349.76064215 353.7157505  365.69383599 368.90163756\n",
            " 363.50127048 359.34170405 363.93837215 361.80923342 360.89978811\n",
            " 366.73019974 366.90645183 371.11535263 366.63150914 360.84337474\n",
            " 356.54987647 355.4077664  354.2022084  343.07717671 343.32391202]\n"
          ],
          "name": "stdout"
        }
      ]
    },
    {
      "cell_type": "markdown",
      "metadata": {
        "id": "gIio2wg0HrSd"
      },
      "source": [
        "VISUALIZING DECISION TREE REGRESSION MODEL"
      ]
    },
    {
      "cell_type": "code",
      "metadata": {
        "colab": {
          "base_uri": "https://localhost:8080/",
          "height": 458
        },
        "id": "0ezC02RL1a6f",
        "outputId": "21e57dea-e1b5-4377-8a31-31100772f3f8"
      },
      "source": [
        "### Visualizing the data\n",
        "predictions = tree_prediction\n",
        "\n",
        "valid = df[X.shape[0]:]\n",
        "valid['Predictions'] = predictions\n",
        "plt.figure(figsize=(20, 5))\n",
        "plt.title('Model')\n",
        "plt.xlabel('Days')\n",
        "plt.ylabel('Close Price in USD$')\n",
        "plt.plot(df['Close'])\n",
        "plt.plot(valid[['Close', 'Predictions']])\n",
        "plt.legend(['Orig', 'Val', 'Pred'])\n",
        "plt.show()"
      ],
      "execution_count": null,
      "outputs": [
        {
          "output_type": "stream",
          "text": [
            "/usr/local/lib/python3.7/dist-packages/ipykernel_launcher.py:5: SettingWithCopyWarning: \n",
            "A value is trying to be set on a copy of a slice from a DataFrame.\n",
            "Try using .loc[row_indexer,col_indexer] = value instead\n",
            "\n",
            "See the caveats in the documentation: https://pandas.pydata.org/pandas-docs/stable/user_guide/indexing.html#returning-a-view-versus-a-copy\n",
            "  \"\"\"\n"
          ],
          "name": "stderr"
        },
        {
          "output_type": "display_data",
          "data": {
            "image/png": "[encoded data removed]",
            "text/plain": [
              "<Figure size 1440x360 with 1 Axes>"
            ]
          },
          "metadata": {
            "tags": [],
            "needs_background": "light"
          }
        }
      ]
    },
    {
      "cell_type": "markdown",
      "metadata": {
        "id": "6AgORzEYH6mS"
      },
      "source": [
        "VISUALIZING LINEAR REGRESSION MODEL"
      ]
    },
    {
      "cell_type": "code",
      "metadata": {
        "colab": {
          "base_uri": "https://localhost:8080/",
          "height": 458
        },
        "id": "GZosy2k23_Pd",
        "outputId": "c694a078-db1c-4412-ab94-c4753be5bdf2"
      },
      "source": [
        "predictions = lr_prediction\n",
        "\n",
        "valid = df[X.shape[0]:]\n",
        "valid['Predictions'] = predictions\n",
        "plt.figure(figsize=(20, 5))\n",
        "plt.title('Model')\n",
        "plt.xlabel('Days')\n",
        "plt.ylabel('Close Price in USD$')\n",
        "plt.plot(df['Close'])\n",
        "plt.plot(valid[['Close', 'Predictions']])\n",
        "plt.legend(['Orig', 'Val', 'Pred'])\n",
        "plt.show()"
      ],
      "execution_count": null,
      "outputs": [
        {
          "output_type": "stream",
          "text": [
            "/usr/local/lib/python3.7/dist-packages/ipykernel_launcher.py:4: SettingWithCopyWarning: \n",
            "A value is trying to be set on a copy of a slice from a DataFrame.\n",
            "Try using .loc[row_indexer,col_indexer] = value instead\n",
            "\n",
            "See the caveats in the documentation: https://pandas.pydata.org/pandas-docs/stable/user_guide/indexing.html#returning-a-view-versus-a-copy\n",
            "  after removing the cwd from sys.path.\n"
          ],
          "name": "stderr"
        },
        {
          "output_type": "display_data",
          "data": {
            "image/png": "[encoded data removed]",
            "text/plain": [
              "<Figure size 1440x360 with 1 Axes>"
            ]
          },
          "metadata": {
            "tags": [],
            "needs_background": "light"
          }
        }
      ]
    },
    {
      "cell_type": "code",
      "metadata": {
        "colab": {
          "base_uri": "https://localhost:8080/",
          "height": 280
        },
        "id": "O8FdVQ5HcVM7",
        "outputId": "c814d1a5-2569-4934-d274-57140b74de46"
      },
      "source": [
        "df['Close'].hist()"
      ],
      "execution_count": null,
      "outputs": [
        {
          "output_type": "execute_result",
          "data": {
            "text/plain": [
              "<matplotlib.axes._subplots.AxesSubplot at 0x7f6e91da1f90>"
            ]
          },
          "metadata": {
            "tags": []
          },
          "execution_count": 17
        },
        {
          "output_type": "display_data",
          "data": {
            "image/png": "[encoded data removed]",
            "text/plain": [
              "<Figure size 432x288 with 1 Axes>"
            ]
          },
          "metadata": {
            "tags": [],
            "needs_background": "light"
          }
        }
      ]
    },
    {
      "cell_type": "code",
      "metadata": {
        "id": "HmVmUqUsmDpI"
      },
      "source": [
        "x_valid = valid.drop('Close', axis=1)\n",
        "y_valid = valid['Close']"
      ],
      "execution_count": null,
      "outputs": []
    },
    {
      "cell_type": "markdown",
      "metadata": {
        "id": "HNLBa-nKIE8h"
      },
      "source": [
        "KNN MODEL- IMPLEMENTATION & VISUALIZING"
      ]
    },
    {
      "cell_type": "code",
      "metadata": {
        "id": "lDuCb3x8kGKO"
      },
      "source": [
        "### Implementing knn\n",
        "from sklearn import neighbors\n",
        "from sklearn.model_selection import GridSearchCV\n",
        "from sklearn.preprocessing import MinMaxScaler\n",
        "scaler = MinMaxScaler(feature_range=(0, 1))"
      ],
      "execution_count": null,
      "outputs": []
    },
    {
      "cell_type": "code",
      "metadata": {
        "colab": {
          "base_uri": "https://localhost:8080/"
        },
        "id": "A4KHXw9DkYSl",
        "outputId": "3e378e8b-ea06-4e9d-e2de-e033bfab22b2"
      },
      "source": [
        "### scaling data\n",
        "x_train_scaled = scaler.fit_transform(x_train)\n",
        "x_train = pd.DataFrame(x_train_scaled)\n",
        "x_valid_scaled = scaler.fit_transform(x_valid)\n",
        "x_valid = pd.DataFrame(x_valid_scaled)\n"
      ],
      "execution_count": null,
      "outputs": [
        {
          "output_type": "stream",
          "text": [
            "/usr/local/lib/python3.7/dist-packages/sklearn/preprocessing/_data.py:375: RuntimeWarning: All-NaN slice encountered\n",
            "  data_min = np.nanmin(X, axis=0)\n",
            "/usr/local/lib/python3.7/dist-packages/sklearn/preprocessing/_data.py:376: RuntimeWarning: All-NaN slice encountered\n",
            "  data_max = np.nanmax(X, axis=0)\n"
          ],
          "name": "stderr"
        }
      ]
    },
    {
      "cell_type": "code",
      "metadata": {
        "colab": {
          "base_uri": "https://localhost:8080/",
          "height": 419
        },
        "id": "yIWgNvml6x-J",
        "outputId": "d8325355-0a46-4e0a-973f-acd18ed422de"
      },
      "source": [
        "x_valid"
      ],
      "execution_count": null,
      "outputs": [
        {
          "output_type": "execute_result",
          "data": {
            "text/html": [
              "<div>\n",
              "<style scoped>\n",
              "    .dataframe tbody tr th:only-of-type {\n",
              "        vertical-align: middle;\n",
              "    }\n",
              "\n",
              "    .dataframe tbody tr th {\n",
              "        vertical-align: top;\n",
              "    }\n",
              "\n",
              "    .dataframe thead th {\n",
              "        text-align: right;\n",
              "    }\n",
              "</style>\n",
              "<table border=\"1\" class=\"dataframe\">\n",
              "  <thead>\n",
              "    <tr style=\"text-align: right;\">\n",
              "      <th></th>\n",
              "      <th>0</th>\n",
              "      <th>1</th>\n",
              "    </tr>\n",
              "  </thead>\n",
              "  <tbody>\n",
              "    <tr>\n",
              "      <th>0</th>\n",
              "      <td>NaN</td>\n",
              "      <td>0.762289</td>\n",
              "    </tr>\n",
              "    <tr>\n",
              "      <th>1</th>\n",
              "      <td>NaN</td>\n",
              "      <td>0.806020</td>\n",
              "    </tr>\n",
              "    <tr>\n",
              "      <th>2</th>\n",
              "      <td>NaN</td>\n",
              "      <td>0.608733</td>\n",
              "    </tr>\n",
              "    <tr>\n",
              "      <th>3</th>\n",
              "      <td>NaN</td>\n",
              "      <td>0.577043</td>\n",
              "    </tr>\n",
              "    <tr>\n",
              "      <th>4</th>\n",
              "      <td>NaN</td>\n",
              "      <td>0.699173</td>\n",
              "    </tr>\n",
              "    <tr>\n",
              "      <th>...</th>\n",
              "      <td>...</td>\n",
              "      <td>...</td>\n",
              "    </tr>\n",
              "    <tr>\n",
              "      <th>145</th>\n",
              "      <td>NaN</td>\n",
              "      <td>0.863315</td>\n",
              "    </tr>\n",
              "    <tr>\n",
              "      <th>146</th>\n",
              "      <td>NaN</td>\n",
              "      <td>0.852597</td>\n",
              "    </tr>\n",
              "    <tr>\n",
              "      <th>147</th>\n",
              "      <td>NaN</td>\n",
              "      <td>0.841284</td>\n",
              "    </tr>\n",
              "    <tr>\n",
              "      <th>148</th>\n",
              "      <td>NaN</td>\n",
              "      <td>0.736884</td>\n",
              "    </tr>\n",
              "    <tr>\n",
              "      <th>149</th>\n",
              "      <td>NaN</td>\n",
              "      <td>0.739199</td>\n",
              "    </tr>\n",
              "  </tbody>\n",
              "</table>\n",
              "<p>150 rows × 2 columns</p>\n",
              "</div>"
            ],
            "text/plain": [
              "      0         1\n",
              "0   NaN  0.762289\n",
              "1   NaN  0.806020\n",
              "2   NaN  0.608733\n",
              "3   NaN  0.577043\n",
              "4   NaN  0.699173\n",
              "..   ..       ...\n",
              "145 NaN  0.863315\n",
              "146 NaN  0.852597\n",
              "147 NaN  0.841284\n",
              "148 NaN  0.736884\n",
              "149 NaN  0.739199\n",
              "\n",
              "[150 rows x 2 columns]"
            ]
          },
          "metadata": {
            "tags": []
          },
          "execution_count": 22
        }
      ]
    },
    {
      "cell_type": "code",
      "metadata": {
        "id": "mLlZsdKl7moP"
      },
      "source": [
        "### Removing all Missing valus\n",
        "x_valid1 = x_valid.dropna(axis=1)"
      ],
      "execution_count": null,
      "outputs": []
    },
    {
      "cell_type": "code",
      "metadata": {
        "colab": {
          "base_uri": "https://localhost:8080/",
          "height": 419
        },
        "id": "kRyd7Dhv8XHq",
        "outputId": "c7e8bcd2-2e0e-4d26-e6b1-feb145cda35e"
      },
      "source": [
        "x_valid1"
      ],
      "execution_count": null,
      "outputs": [
        {
          "output_type": "execute_result",
          "data": {
            "text/html": [
              "<div>\n",
              "<style scoped>\n",
              "    .dataframe tbody tr th:only-of-type {\n",
              "        vertical-align: middle;\n",
              "    }\n",
              "\n",
              "    .dataframe tbody tr th {\n",
              "        vertical-align: top;\n",
              "    }\n",
              "\n",
              "    .dataframe thead th {\n",
              "        text-align: right;\n",
              "    }\n",
              "</style>\n",
              "<table border=\"1\" class=\"dataframe\">\n",
              "  <thead>\n",
              "    <tr style=\"text-align: right;\">\n",
              "      <th></th>\n",
              "      <th>1</th>\n",
              "    </tr>\n",
              "  </thead>\n",
              "  <tbody>\n",
              "    <tr>\n",
              "      <th>0</th>\n",
              "      <td>0.762289</td>\n",
              "    </tr>\n",
              "    <tr>\n",
              "      <th>1</th>\n",
              "      <td>0.806020</td>\n",
              "    </tr>\n",
              "    <tr>\n",
              "      <th>2</th>\n",
              "      <td>0.608733</td>\n",
              "    </tr>\n",
              "    <tr>\n",
              "      <th>3</th>\n",
              "      <td>0.577043</td>\n",
              "    </tr>\n",
              "    <tr>\n",
              "      <th>4</th>\n",
              "      <td>0.699173</td>\n",
              "    </tr>\n",
              "    <tr>\n",
              "      <th>...</th>\n",
              "      <td>...</td>\n",
              "    </tr>\n",
              "    <tr>\n",
              "      <th>145</th>\n",
              "      <td>0.863315</td>\n",
              "    </tr>\n",
              "    <tr>\n",
              "      <th>146</th>\n",
              "      <td>0.852597</td>\n",
              "    </tr>\n",
              "    <tr>\n",
              "      <th>147</th>\n",
              "      <td>0.841284</td>\n",
              "    </tr>\n",
              "    <tr>\n",
              "      <th>148</th>\n",
              "      <td>0.736884</td>\n",
              "    </tr>\n",
              "    <tr>\n",
              "      <th>149</th>\n",
              "      <td>0.739199</td>\n",
              "    </tr>\n",
              "  </tbody>\n",
              "</table>\n",
              "<p>150 rows × 1 columns</p>\n",
              "</div>"
            ],
            "text/plain": [
              "            1\n",
              "0    0.762289\n",
              "1    0.806020\n",
              "2    0.608733\n",
              "3    0.577043\n",
              "4    0.699173\n",
              "..        ...\n",
              "145  0.863315\n",
              "146  0.852597\n",
              "147  0.841284\n",
              "148  0.736884\n",
              "149  0.739199\n",
              "\n",
              "[150 rows x 1 columns]"
            ]
          },
          "metadata": {
            "tags": []
          },
          "execution_count": 24
        }
      ]
    },
    {
      "cell_type": "code",
      "metadata": {
        "id": "VHPW8jEEshJr"
      },
      "source": [
        "#x_valid2 = x_valid.isnull()\n",
        "#x_valid3 = x_valid[~x_valid2]"
      ],
      "execution_count": null,
      "outputs": []
    },
    {
      "cell_type": "code",
      "metadata": {
        "id": "m_iY1fg9niTy"
      },
      "source": [
        "### adjusting best parameters from gridsearch\n",
        "params = {'n_neighbors':[2,3,4,5,6,7,8,9]}\n",
        "knn = neighbors.KNeighborsRegressor()\n",
        "model = GridSearchCV(knn, params, cv=5)\n",
        "\n",
        "### fitting the model\n",
        "model.fit(x_train, y_train)\n",
        "predictions = model.predict(x_valid1)\n"
      ],
      "execution_count": null,
      "outputs": []
    },
    {
      "cell_type": "code",
      "metadata": {
        "id": "nlGjvvwnrB3e",
        "colab": {
          "base_uri": "https://localhost:8080/",
          "height": 496
        },
        "outputId": "9d72e34e-c769-49af-eb5c-f8f27070ad6a"
      },
      "source": [
        "#plot\n",
        "valid['Predictions'] = 0\n",
        "valid['Predictions'] = predictions\n",
        "\n",
        "valid.index = df[:150].index\n",
        "train = df[25:]\n",
        "\n",
        "plt.plot(train['Close'])\n",
        "plt.plot(valid[['Close', 'Predictions']])\n",
        "plt.figure(figsize=(20, 5))\n",
        "#plt.legend(['Orig', 'Val', 'Pred'])\n",
        "plt.show()"
      ],
      "execution_count": null,
      "outputs": [
        {
          "output_type": "stream",
          "text": [
            "/usr/local/lib/python3.7/dist-packages/ipykernel_launcher.py:2: SettingWithCopyWarning: \n",
            "A value is trying to be set on a copy of a slice from a DataFrame.\n",
            "Try using .loc[row_indexer,col_indexer] = value instead\n",
            "\n",
            "See the caveats in the documentation: https://pandas.pydata.org/pandas-docs/stable/user_guide/indexing.html#returning-a-view-versus-a-copy\n",
            "  \n",
            "/usr/local/lib/python3.7/dist-packages/ipykernel_launcher.py:3: SettingWithCopyWarning: \n",
            "A value is trying to be set on a copy of a slice from a DataFrame.\n",
            "Try using .loc[row_indexer,col_indexer] = value instead\n",
            "\n",
            "See the caveats in the documentation: https://pandas.pydata.org/pandas-docs/stable/user_guide/indexing.html#returning-a-view-versus-a-copy\n",
            "  This is separate from the ipykernel package so we can avoid doing imports until\n"
          ],
          "name": "stderr"
        },
        {
          "output_type": "display_data",
          "data": {
            "image/png": "[encoded data removed]",
            "text/plain": [
              "<Figure size 432x288 with 1 Axes>"
            ]
          },
          "metadata": {
            "tags": [],
            "needs_background": "light"
          }
        },
        {
          "output_type": "display_data",
          "data": {
            "text/plain": [
              "<Figure size 1440x360 with 0 Axes>"
            ]
          },
          "metadata": {
            "tags": []
          }
        }
      ]
    },
    {
      "cell_type": "markdown",
      "metadata": {
        "id": "0lmk6P-KIU34"
      },
      "source": [
        "LSTM- MODEL BUILDING & VISUALIZING"
      ]
    },
    {
      "cell_type": "code",
      "metadata": {
        "id": "j5MJqg_ntUq4"
      },
      "source": [
        "### imlementing LSTM\n",
        "import math\n",
        "import pandas_datareader as web\n",
        "from keras.models import Sequential\n",
        "from keras.layers import Dense, LSTM\n",
        "import matplotlib.pyplot as plt\n",
        "plt.style.use('fivethirtyeight')\n"
      ],
      "execution_count": null,
      "outputs": []
    },
    {
      "cell_type": "code",
      "metadata": {
        "colab": {
          "resources": {
            "http://localhost:8080/nbextensions/google.colab/files.js": {
              "data": "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",
              "ok": true,
              "headers": [
                [
                  "content-type",
                  "application/javascript"
                ]
              ],
              "status": 200,
              "status_text": ""
            }
          },
          "base_uri": "https://localhost:8080/",
          "height": 73
        },
        "id": "0346ClUhzKpz",
        "outputId": "16a0d6d3-5b90-4eef-bf5a-c2e2220bf868"
      },
      "source": [
        "from google.colab import files\n",
        "uploaded = files.upload()"
      ],
      "execution_count": null,
      "outputs": [
        {
          "output_type": "display_data",
          "data": {
            "text/html": [
              "\n",
              "     <input type=\"file\" id=\"files-851e9010-d1de-4d5d-b402-1cb040388fba\" name=\"files[]\" multiple disabled\n",
              "        style=\"border:none\" />\n",
              "     <output id=\"result-851e9010-d1de-4d5d-b402-1cb040388fba\">\n",
              "      Upload widget is only available when the cell has been executed in the\n",
              "      current browser session. Please rerun this cell to enable.\n",
              "      </output>\n",
              "      <script src=\"/nbextensions/google.colab/files.js\"></script> "
            ],
            "text/plain": [
              "<IPython.core.display.HTML object>"
            ]
          },
          "metadata": {
            "tags": []
          }
        },
        {
          "output_type": "stream",
          "text": [
            "Saving NFLX.csv to NFLX (1).csv\n"
          ],
          "name": "stdout"
        }
      ]
    },
    {
      "cell_type": "code",
      "metadata": {
        "colab": {
          "base_uri": "https://localhost:8080/",
          "height": 235
        },
        "id": "Ay_--RjAz_tv",
        "outputId": "fd397767-59a8-4612-fa23-73077a3957dd"
      },
      "source": [
        "daf = pd.read_csv('NFLX.csv')\n",
        "daf.head(6)"
      ],
      "execution_count": null,
      "outputs": [
        {
          "output_type": "execute_result",
          "data": {
            "text/html": [
              "<div>\n",
              "<style scoped>\n",
              "    .dataframe tbody tr th:only-of-type {\n",
              "        vertical-align: middle;\n",
              "    }\n",
              "\n",
              "    .dataframe tbody tr th {\n",
              "        vertical-align: top;\n",
              "    }\n",
              "\n",
              "    .dataframe thead th {\n",
              "        text-align: right;\n",
              "    }\n",
              "</style>\n",
              "<table border=\"1\" class=\"dataframe\">\n",
              "  <thead>\n",
              "    <tr style=\"text-align: right;\">\n",
              "      <th></th>\n",
              "      <th>Date</th>\n",
              "      <th>Open</th>\n",
              "      <th>High</th>\n",
              "      <th>Low</th>\n",
              "      <th>Close</th>\n",
              "      <th>Adj Close</th>\n",
              "      <th>Volume</th>\n",
              "    </tr>\n",
              "  </thead>\n",
              "  <tbody>\n",
              "    <tr>\n",
              "      <th>0</th>\n",
              "      <td>2015-12-16</td>\n",
              "      <td>119.800003</td>\n",
              "      <td>123.000000</td>\n",
              "      <td>118.089996</td>\n",
              "      <td>122.639999</td>\n",
              "      <td>122.639999</td>\n",
              "      <td>13181000</td>\n",
              "    </tr>\n",
              "    <tr>\n",
              "      <th>1</th>\n",
              "      <td>2015-12-17</td>\n",
              "      <td>123.970001</td>\n",
              "      <td>126.349998</td>\n",
              "      <td>122.419998</td>\n",
              "      <td>122.510002</td>\n",
              "      <td>122.510002</td>\n",
              "      <td>17284900</td>\n",
              "    </tr>\n",
              "    <tr>\n",
              "      <th>2</th>\n",
              "      <td>2015-12-18</td>\n",
              "      <td>120.849998</td>\n",
              "      <td>122.190002</td>\n",
              "      <td>117.919998</td>\n",
              "      <td>118.019997</td>\n",
              "      <td>118.019997</td>\n",
              "      <td>17948100</td>\n",
              "    </tr>\n",
              "    <tr>\n",
              "      <th>3</th>\n",
              "      <td>2015-12-21</td>\n",
              "      <td>119.510002</td>\n",
              "      <td>119.589996</td>\n",
              "      <td>115.660004</td>\n",
              "      <td>116.629997</td>\n",
              "      <td>116.629997</td>\n",
              "      <td>11670000</td>\n",
              "    </tr>\n",
              "    <tr>\n",
              "      <th>4</th>\n",
              "      <td>2015-12-22</td>\n",
              "      <td>117.300003</td>\n",
              "      <td>117.430000</td>\n",
              "      <td>114.860001</td>\n",
              "      <td>116.239998</td>\n",
              "      <td>116.239998</td>\n",
              "      <td>9689000</td>\n",
              "    </tr>\n",
              "    <tr>\n",
              "      <th>5</th>\n",
              "      <td>2015-12-23</td>\n",
              "      <td>116.910004</td>\n",
              "      <td>118.559998</td>\n",
              "      <td>115.779999</td>\n",
              "      <td>118.160004</td>\n",
              "      <td>118.160004</td>\n",
              "      <td>9324300</td>\n",
              "    </tr>\n",
              "  </tbody>\n",
              "</table>\n",
              "</div>"
            ],
            "text/plain": [
              "         Date        Open        High  ...       Close   Adj Close    Volume\n",
              "0  2015-12-16  119.800003  123.000000  ...  122.639999  122.639999  13181000\n",
              "1  2015-12-17  123.970001  126.349998  ...  122.510002  122.510002  17284900\n",
              "2  2015-12-18  120.849998  122.190002  ...  118.019997  118.019997  17948100\n",
              "3  2015-12-21  119.510002  119.589996  ...  116.629997  116.629997  11670000\n",
              "4  2015-12-22  117.300003  117.430000  ...  116.239998  116.239998   9689000\n",
              "5  2015-12-23  116.910004  118.559998  ...  118.160004  118.160004   9324300\n",
              "\n",
              "[6 rows x 7 columns]"
            ]
          },
          "metadata": {
            "tags": []
          },
          "execution_count": 30
        }
      ]
    },
    {
      "cell_type": "code",
      "metadata": {
        "colab": {
          "base_uri": "https://localhost:8080/",
          "height": 558
        },
        "id": "ljtUvLkw0OWE",
        "outputId": "e12867b5-9b4c-4d07-a170-2e45b9f9eabd"
      },
      "source": [
        "### visualize\n",
        "plt.figure(figsize=(16,8))\n",
        "plt.title('NETFLIX')\n",
        "plt.xlabel('Days')\n",
        "plt.ylabel('Close Price in USD$')\n",
        "plt.plot(df['Close'])\n",
        "plt.show()"
      ],
      "execution_count": null,
      "outputs": [
        {
          "output_type": "display_data",
          "data": {
            "image/png": "[encoded data removed]",
            "text/plain": [
              "<Figure size 1152x576 with 1 Axes>"
            ]
          },
          "metadata": {
            "tags": []
          }
        }
      ]
    },
    {
      "cell_type": "code",
      "metadata": {
        "colab": {
          "base_uri": "https://localhost:8080/"
        },
        "id": "I6yFsOHG0e3v",
        "outputId": "f89f8451-dc2f-4eb0-b500-18698e3624cf"
      },
      "source": [
        "### creating new dataframe with close column\n",
        "data = daf.filter(['Close'])\n",
        "### convert it to np array\n",
        "dataset = data.values\n",
        "### get no. of rows to train the model\n",
        "training_data_len = math.ceil(len(dataset) * .8)\n",
        "\n",
        "training_data_len"
      ],
      "execution_count": null,
      "outputs": [
        {
          "output_type": "execute_result",
          "data": {
            "text/plain": [
              "806"
            ]
          },
          "metadata": {
            "tags": []
          },
          "execution_count": 32
        }
      ]
    },
    {
      "cell_type": "code",
      "metadata": {
        "colab": {
          "base_uri": "https://localhost:8080/"
        },
        "id": "Rf9rTvQC1_M9",
        "outputId": "6a3da8ee-37ce-4b29-c728-c4cfc57ca3dd"
      },
      "source": [
        "### Scale the data\n",
        "scaler = MinMaxScaler(feature_range=(0,1))\n",
        "scaled_data = scaler.fit_transform(dataset)\n",
        "\n",
        "scaled_data"
      ],
      "execution_count": null,
      "outputs": [
        {
          "output_type": "execute_result",
          "data": {
            "text/plain": [
              "array([[0.11853768],\n",
              "       [0.11815099],\n",
              "       [0.10479504],\n",
              "       ...,\n",
              "       [0.64147183],\n",
              "       [0.6416503 ],\n",
              "       [0.65863523]])"
            ]
          },
          "metadata": {
            "tags": []
          },
          "execution_count": 33
        }
      ]
    },
    {
      "cell_type": "code",
      "metadata": {
        "colab": {
          "base_uri": "https://localhost:8080/"
        },
        "id": "XeCCKc3b2lyN",
        "outputId": "9591f8a9-29cc-4ebd-a783-afb8bc1661eb"
      },
      "source": [
        "### create the training dataset\n",
        "### create the scaled training data set\n",
        "train_data = scaled_data[0:training_data_len, :]\n",
        "### split the data into x_train & y_train dataset\n",
        "x_train = []\n",
        "y_train = []\n",
        "### \n",
        "\n",
        "for i in range(60, len(train_data)):\n",
        "  x_train.append(train_data[i-60:i, 0])\n",
        "  y_train.append(train_data[i, 0])\n",
        "  if i<=61:\n",
        "    print(x_train)\n",
        "    print(y_train)\n",
        "    print()\n",
        "    "
      ],
      "execution_count": null,
      "outputs": [
        {
          "output_type": "stream",
          "text": [
            "[array([0.11853768, 0.11815099, 0.10479504, 0.10066035, 0.09950026,\n",
            "       0.1052115 , 0.10274258, 0.10208817, 0.10806711, 0.10089832,\n",
            "       0.09396751, 0.08081979, 0.07397823, 0.10378368, 0.09450294,\n",
            "       0.08507347, 0.09572253, 0.10051163, 0.07070616, 0.07219346,\n",
            "       0.06321019, 0.07466238, 0.07421618, 0.05818311, 0.05333452,\n",
            "       0.04857517, 0.04473794, 0.02486763, 0.03456483, 0.02692009,\n",
            "       0.03361293, 0.02587898, 0.02364804, 0.0205842 , 0.        ,\n",
            "       0.00157653, 0.00993514, 0.01683621, 0.01058956, 0.01371289,\n",
            "       0.01862098, 0.03560593, 0.02290439, 0.01915641, 0.02718781,\n",
            "       0.0188292 , 0.02623595, 0.03492176, 0.03569516, 0.03159023,\n",
            "       0.046136  , 0.04408353, 0.04503539, 0.05589268, 0.03777737,\n",
            "       0.03997859, 0.04524362, 0.04333988, 0.04423227, 0.04563031])]\n",
            "[0.044827175917663165]\n",
            "\n",
            "[array([0.11853768, 0.11815099, 0.10479504, 0.10066035, 0.09950026,\n",
            "       0.1052115 , 0.10274258, 0.10208817, 0.10806711, 0.10089832,\n",
            "       0.09396751, 0.08081979, 0.07397823, 0.10378368, 0.09450294,\n",
            "       0.08507347, 0.09572253, 0.10051163, 0.07070616, 0.07219346,\n",
            "       0.06321019, 0.07466238, 0.07421618, 0.05818311, 0.05333452,\n",
            "       0.04857517, 0.04473794, 0.02486763, 0.03456483, 0.02692009,\n",
            "       0.03361293, 0.02587898, 0.02364804, 0.0205842 , 0.        ,\n",
            "       0.00157653, 0.00993514, 0.01683621, 0.01058956, 0.01371289,\n",
            "       0.01862098, 0.03560593, 0.02290439, 0.01915641, 0.02718781,\n",
            "       0.0188292 , 0.02623595, 0.03492176, 0.03569516, 0.03159023,\n",
            "       0.046136  , 0.04408353, 0.04503539, 0.05589268, 0.03777737,\n",
            "       0.03997859, 0.04524362, 0.04333988, 0.04423227, 0.04563031]), array([0.11815099, 0.10479504, 0.10066035, 0.09950026, 0.1052115 ,\n",
            "       0.10274258, 0.10208817, 0.10806711, 0.10089832, 0.09396751,\n",
            "       0.08081979, 0.07397823, 0.10378368, 0.09450294, 0.08507347,\n",
            "       0.09572253, 0.10051163, 0.07070616, 0.07219346, 0.06321019,\n",
            "       0.07466238, 0.07421618, 0.05818311, 0.05333452, 0.04857517,\n",
            "       0.04473794, 0.02486763, 0.03456483, 0.02692009, 0.03361293,\n",
            "       0.02587898, 0.02364804, 0.0205842 , 0.        , 0.00157653,\n",
            "       0.00993514, 0.01683621, 0.01058956, 0.01371289, 0.01862098,\n",
            "       0.03560593, 0.02290439, 0.01915641, 0.02718781, 0.0188292 ,\n",
            "       0.02623595, 0.03492176, 0.03569516, 0.03159023, 0.046136  ,\n",
            "       0.04408353, 0.04503539, 0.05589268, 0.03777737, 0.03997859,\n",
            "       0.04524362, 0.04333988, 0.04423227, 0.04563031, 0.04482718])]\n",
            "[0.044827175917663165, 0.04925931643762271]\n",
            "\n"
          ],
          "name": "stdout"
        }
      ]
    },
    {
      "cell_type": "code",
      "metadata": {
        "id": "HIGFc-J_4Sr-"
      },
      "source": [
        "### convert the x_train & y_train dataset into np array\n",
        "x_train, y_train = np.array(x_train), np.array(y_train)"
      ],
      "execution_count": null,
      "outputs": []
    },
    {
      "cell_type": "code",
      "metadata": {
        "colab": {
          "base_uri": "https://localhost:8080/"
        },
        "id": "vSy9DCY443Ba",
        "outputId": "a9104b00-a966-4dbf-812f-5018b05d3800"
      },
      "source": [
        "### Reshape\n",
        "x_train = np.reshape(x_train, (x_train.shape[0], x_train.shape[1], 1))\n",
        "x_train.shape"
      ],
      "execution_count": null,
      "outputs": [
        {
          "output_type": "execute_result",
          "data": {
            "text/plain": [
              "(746, 60, 1)"
            ]
          },
          "metadata": {
            "tags": []
          },
          "execution_count": 36
        }
      ]
    },
    {
      "cell_type": "code",
      "metadata": {
        "id": "v-cr3ALQ5B6H"
      },
      "source": [
        "### Building LSTM model\n",
        "model = Sequential()\n",
        "model.add(LSTM(50, return_sequences=True, input_shape= (x_train.shape[1], 1)))\n",
        "model.add(LSTM(50, return_sequences=False))\n",
        "model.add(Dense(25))\n",
        "model.add(Dense(1))\n"
      ],
      "execution_count": null,
      "outputs": []
    },
    {
      "cell_type": "code",
      "metadata": {
        "id": "XB_-dNEZ6uiu"
      },
      "source": [
        "### Compile the model\n",
        "model.compile(optimizer='adam', loss='mean_squared_error')"
      ],
      "execution_count": null,
      "outputs": []
    },
    {
      "cell_type": "code",
      "metadata": {
        "colab": {
          "base_uri": "https://localhost:8080/"
        },
        "id": "vL0erGeq7N-n",
        "outputId": "763cdfa7-f87a-412c-cb25-0cbcf2b792db"
      },
      "source": [
        "### Train the model\n",
        "model.fit(x_train, y_train, batch_size=1, epochs=1)\n"
      ],
      "execution_count": null,
      "outputs": [
        {
          "output_type": "stream",
          "text": [
            "746/746 [==============================] - 23s 26ms/step - loss: 0.0112\n"
          ],
          "name": "stdout"
        },
        {
          "output_type": "execute_result",
          "data": {
            "text/plain": [
              "<tensorflow.python.keras.callbacks.History at 0x7f8e2a5cc0d0>"
            ]
          },
          "metadata": {
            "tags": []
          },
          "execution_count": 39
        }
      ]
    },
    {
      "cell_type": "code",
      "metadata": {
        "id": "SmmbrqOi7tVU"
      },
      "source": [
        "### Creating the testing dataset\n",
        "### creating a new array containnig scaled values index_______\n",
        "test_data = scaled_data[training_data_len - 60:, :]\n",
        "### Creating the dataset x_test & y_test\n",
        "x_test = []\n",
        "y_test = dataset[training_data_len:, :]\n",
        "for i in range(60, len(test_data)):\n",
        "  x_test.append(test_data[i-60:i, 0])\n"
      ],
      "execution_count": null,
      "outputs": []
    },
    {
      "cell_type": "code",
      "metadata": {
        "id": "X7zr2kQk9v9A"
      },
      "source": [
        "### converting to np array\n",
        "x_test = np.array(x_test)"
      ],
      "execution_count": null,
      "outputs": []
    },
    {
      "cell_type": "code",
      "metadata": {
        "id": "L5rzDUad99B8"
      },
      "source": [
        "### Reshaping\n",
        "x_test = np.reshape(x_test, (x_test.shape[0], x_test.shape[1], 1))"
      ],
      "execution_count": null,
      "outputs": []
    },
    {
      "cell_type": "code",
      "metadata": {
        "id": "NYLg0RRW-ghP"
      },
      "source": [
        "### Geting models predicted values\n",
        "predictions = model.predict(x_test)\n",
        "predictions = scaler.inverse_transform(predictions)\n"
      ],
      "execution_count": null,
      "outputs": []
    },
    {
      "cell_type": "markdown",
      "metadata": {
        "id": "SMuJliegPAW8"
      },
      "source": [
        "Root Mean Square Error (RMSE) is a standard way to measure the error of a model in predicting quantitative data. The RMSE is the square root of the variance of the residuals.  Lower values of RMSE indicate better fit. RMSE is a good measure of how accurately the model predicts the response, and it is the most important criterion for fit if the main purpose of the model is prediction."
      ]
    },
    {
      "cell_type": "code",
      "metadata": {
        "colab": {
          "base_uri": "https://localhost:8080/"
        },
        "id": "Hs_0p5In_FKG",
        "outputId": "e43c6d05-4965-4b1a-8f93-2aef4899fcc6"
      },
      "source": [
        "### Getting the Root mean squared error (RMSE)\n",
        "rmse = np.sqrt(np.mean(predictions - y_test)**2)\n",
        "rmse"
      ],
      "execution_count": null,
      "outputs": [
        {
          "output_type": "execute_result",
          "data": {
            "text/plain": [
              "33.778163635921956"
            ]
          },
          "metadata": {
            "tags": []
          },
          "execution_count": 44
        }
      ]
    },
    {
      "cell_type": "code",
      "metadata": {
        "colab": {
          "base_uri": "https://localhost:8080/",
          "height": 666
        },
        "id": "esFc0KbE_o0L",
        "outputId": "f31002df-3e53-40e7-e6a8-3b9b1bae6562"
      },
      "source": [
        "### Plotting the data\n",
        "train = data[:training_data_len]\n",
        "valid = data[training_data_len:]\n",
        "valid['Predictions'] = predictions\n",
        "### Visualizing the data\n",
        "plt.figure(figsize=(16,8))\n",
        "plt.title('Model')\n",
        "plt.xlabel('Date', fontsize=18)\n",
        "plt.ylabel(\"Close Price in USD$\", fontsize=18)\n",
        "plt.plot(train['Close'])\n",
        "plt.plot(valid[['Close', 'Predictions']])\n",
        "plt.legend(['Train', 'Val', 'Predictions'], loc='lower right')\n",
        "plt.show()"
      ],
      "execution_count": null,
      "outputs": [
        {
          "output_type": "stream",
          "text": [
            "/usr/local/lib/python3.7/dist-packages/ipykernel_launcher.py:4: SettingWithCopyWarning: \n",
            "A value is trying to be set on a copy of a slice from a DataFrame.\n",
            "Try using .loc[row_indexer,col_indexer] = value instead\n",
            "\n",
            "See the caveats in the documentation: https://pandas.pydata.org/pandas-docs/stable/user_guide/indexing.html#returning-a-view-versus-a-copy\n",
            "  after removing the cwd from sys.path.\n"
          ],
          "name": "stderr"
        },
        {
          "output_type": "display_data",
          "data": {
            "image/png": "[encoded data removed]",
            "text/plain": [
              "<Figure size 1152x576 with 1 Axes>"
            ]
          },
          "metadata": {
            "tags": []
          }
        }
      ]
    },
    {
      "cell_type": "code",
      "metadata": {
        "colab": {
          "base_uri": "https://localhost:8080/",
          "height": 419
        },
        "id": "lXkUymkTCDC-",
        "outputId": "a5c81fd8-4e38-457c-a5da-d435d648ad57"
      },
      "source": [
        "### Showing the Predicted Prices\n",
        "valid"
      ],
      "execution_count": null,
      "outputs": [
        {
          "output_type": "execute_result",
          "data": {
            "text/html": [
              "<div>\n",
              "<style scoped>\n",
              "    .dataframe tbody tr th:only-of-type {\n",
              "        vertical-align: middle;\n",
              "    }\n",
              "\n",
              "    .dataframe tbody tr th {\n",
              "        vertical-align: top;\n",
              "    }\n",
              "\n",
              "    .dataframe thead th {\n",
              "        text-align: right;\n",
              "    }\n",
              "</style>\n",
              "<table border=\"1\" class=\"dataframe\">\n",
              "  <thead>\n",
              "    <tr style=\"text-align: right;\">\n",
              "      <th></th>\n",
              "      <th>Close</th>\n",
              "      <th>Predictions</th>\n",
              "    </tr>\n",
              "  </thead>\n",
              "  <tbody>\n",
              "    <tr>\n",
              "      <th>806</th>\n",
              "      <td>351.040009</td>\n",
              "      <td>394.563080</td>\n",
              "    </tr>\n",
              "    <tr>\n",
              "      <th>807</th>\n",
              "      <td>354.299988</td>\n",
              "      <td>393.901306</td>\n",
              "    </tr>\n",
              "    <tr>\n",
              "      <th>808</th>\n",
              "      <td>359.609985</td>\n",
              "      <td>393.055939</td>\n",
              "    </tr>\n",
              "    <tr>\n",
              "      <th>809</th>\n",
              "      <td>352.600006</td>\n",
              "      <td>392.515167</td>\n",
              "    </tr>\n",
              "    <tr>\n",
              "      <th>810</th>\n",
              "      <td>349.600006</td>\n",
              "      <td>391.717133</td>\n",
              "    </tr>\n",
              "    <tr>\n",
              "      <th>...</th>\n",
              "      <td>...</td>\n",
              "      <td>...</td>\n",
              "    </tr>\n",
              "    <tr>\n",
              "      <th>1002</th>\n",
              "      <td>293.119995</td>\n",
              "      <td>341.075745</td>\n",
              "    </tr>\n",
              "    <tr>\n",
              "      <th>1003</th>\n",
              "      <td>298.929993</td>\n",
              "      <td>339.423920</td>\n",
              "    </tr>\n",
              "    <tr>\n",
              "      <th>1004</th>\n",
              "      <td>298.440002</td>\n",
              "      <td>337.776489</td>\n",
              "    </tr>\n",
              "    <tr>\n",
              "      <th>1005</th>\n",
              "      <td>298.500000</td>\n",
              "      <td>336.202087</td>\n",
              "    </tr>\n",
              "    <tr>\n",
              "      <th>1006</th>\n",
              "      <td>304.209991</td>\n",
              "      <td>334.782043</td>\n",
              "    </tr>\n",
              "  </tbody>\n",
              "</table>\n",
              "<p>201 rows × 2 columns</p>\n",
              "</div>"
            ],
            "text/plain": [
              "           Close  Predictions\n",
              "806   351.040009   394.563080\n",
              "807   354.299988   393.901306\n",
              "808   359.609985   393.055939\n",
              "809   352.600006   392.515167\n",
              "810   349.600006   391.717133\n",
              "...          ...          ...\n",
              "1002  293.119995   341.075745\n",
              "1003  298.929993   339.423920\n",
              "1004  298.440002   337.776489\n",
              "1005  298.500000   336.202087\n",
              "1006  304.209991   334.782043\n",
              "\n",
              "[201 rows x 2 columns]"
            ]
          },
          "metadata": {
            "tags": []
          },
          "execution_count": 46
        }
      ]
    }
  ]
}